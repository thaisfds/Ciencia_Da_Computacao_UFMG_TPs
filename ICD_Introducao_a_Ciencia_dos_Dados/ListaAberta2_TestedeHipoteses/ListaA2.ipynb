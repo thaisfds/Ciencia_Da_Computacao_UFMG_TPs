{
  "cells": [
    {
      "attachments": {},
      "cell_type": "markdown",
      "metadata": {
        "id": "oV8iH-KSPpsa"
      },
      "source": [
        "# Intervalos de Confiança\n",
        "\n",
        "Neste notebook, vamos aprender a calcular intervalos de confiança."
      ]
    },
    {
      "attachments": {},
      "cell_type": "markdown",
      "metadata": {
        "id": "l2mGxqXAQY2u"
      },
      "source": [
        "## Uma breve introdução\n",
        "\n",
        "Embora intervalos de confiança sejam amplamente usados, pode ser difícil entender seu conceito e quando devemos usá-lo. Então vamos a um exemplo:\n",
        "\n",
        "Suponha que você queira saber qual a porcentagem de pessoas nos Brasil que amam futebol. Para obter uma resposta 100% correta a essa pergunta, você deveria perguntar a cada um dos 212 milhões habitantes se eles amam ou não futebol. Obviamente, não é viável falar com 212 milhões de pessoas.\n",
        "\n",
        "Você poderia então obter uma amostra aleatória de brasileiros (falando com muito menos pessoas) para obter a porcentagem de pessoas que amam futebol nessa amostra. Contudo, assim não estaria 100% confiante de que esse número está certo ou quão longe esse número está da resposta real.\n",
        "\n",
        "Você poderia tentar obter um intervalo, como: “Tenho 95% de certeza que a porcentagem de pessoas que amam futebol no Brasil está entre 58% e 62%”. É daí que vem o nome Intervalo de confiança, temos um intervalo e temos alguma confiança sobre ele."
      ]
    },
    {
      "attachments": {},
      "cell_type": "markdown",
      "metadata": {
        "id": "8gy3R7pTUQ-R"
      },
      "source": [
        "## Como calcular intervalos de confiança"
      ]
    },
    {
      "attachments": {},
      "cell_type": "markdown",
      "metadata": {
        "id": "sx68L-PHVeiF"
      },
      "source": [
        "O cálculo do intervalo de confiança (ou CI, Confidence Interval) envolve a melhor estimativa obtida pela amostra (média ou mediana) e uma margem de erro. A margem de erro é calculada usando o Z-score para a confiança desejada multiplicada pelo desvio padrão amostral da média.\n"
      ]
    },
    {
      "attachments": {},
      "cell_type": "markdown",
      "metadata": {
        "id": "BAYsaU2IWzkL"
      },
      "source": [
        "$$\\left(\\overline{X} - Z\\frac{s}{\\sqrt{n}},~\\overline{X} + Z\\frac{s}{\\sqrt{n}}\\right)$$"
      ]
    },
    {
      "attachments": {},
      "cell_type": "markdown",
      "metadata": {
        "id": "DmUv_lmuEeeh"
      },
      "source": [
        "Em que $\\overline X$ é a média amostral, $Z$ é o valor de Z-score associado ao nível de confiança desejado, e $\\dfrac{s}{\\sqrt{n}}$ é o desvio padrão amostral da média."
      ]
    },
    {
      "attachments": {},
      "cell_type": "markdown",
      "metadata": {
        "id": "uwHWVH4KXdsM"
      },
      "source": [
        "Aqui estão os z-scores para os níveis de confiança mais comuns:"
      ]
    },
    {
      "attachments": {},
      "cell_type": "markdown",
      "metadata": {
        "id": "3ioFY0V3XwP3"
      },
      "source": [
        "| Confiança |  $Z$ |\n",
        "|   :----:  | :--: |\n",
        "| 75%       | 1.15 |\n",
        "| 90%       | 1.64 |\n",
        "| 95%       | 1.96 |\n",
        "| 99%       | 2.57 |"
      ]
    },
    {
      "attachments": {},
      "cell_type": "markdown",
      "metadata": {
        "id": "pZQQYw8IYy0E"
      },
      "source": [
        "## Vamos ao código!"
      ]
    },
    {
      "cell_type": "code",
      "execution_count": 30,
      "metadata": {
        "id": "DoW5tEl7ron2"
      },
      "outputs": [],
      "source": [
        "import pandas as pd\n",
        "import numpy as np\n",
        "import matplotlib.pyplot as plt"
      ]
    },
    {
      "attachments": {},
      "cell_type": "markdown",
      "metadata": {
        "id": "w5gPkU_mY3S3"
      },
      "source": [
        "## Base de dados\n",
        "Para este exercício, vamos utilizar uma base de dados do site [basedosdados.org](https://basedosdados.org), uma organização colaborativa que cataloga e divulga dados públicos brasileiros. Vocês podem usar esse site para buscar bases para projetos acadêmicos, sempre que necessitarem. Outro exemplo de site de reúne bases abertas (nesse caso, americanas) é o [UCI](https://archive.ics.uci.edu/ml/index.php)."
      ]
    },
    {
      "attachments": {},
      "cell_type": "markdown",
      "metadata": {
        "id": "PK_W3lKVm9N9"
      },
      "source": [
        "Vamos usar a base de \"Indicadores de Mobilidade e Transportes em 2010\" para analisar os dados sobre tempo médio de deslocamento casa-trabalho para o ano de 2010.\n",
        "\n",
        "Para usar o arquivo, podemos usar duas opções: (1)  baixar o csv e importá-lo (usando pandas), ou (2) usar diretamente o pacote do basededados."
      ]
    },
    {
      "attachments": {},
      "cell_type": "markdown",
      "metadata": {
        "id": "YgGzuKpXpK37"
      },
      "source": [
        "### Opção 1:\n",
        "Baixar a tabela 'tempo_deslocamento_casa_trabalho' em https://basedosdados.org/dataset/br-mobilidados-indicadores, adicionar em Files (menu da esquerda) e importar com pandas.\n",
        "\n",
        "Se o link acima não estiver funcionando, tente: [staging.basedosdados](https://staging.basedosdados.org/dataset/br-mobilidados-indicadores?bdm_table=tempo_deslocamento_casa_trabalho)"
      ]
    },
    {
      "cell_type": "code",
      "execution_count": 31,
      "metadata": {
        "id": "b2jzaNJbpGBB"
      },
      "outputs": [],
      "source": [
        "df = pd.read_csv(\"tempo_deslocamento_casa_trabalho.csv\")"
      ]
    },
    {
      "attachments": {},
      "cell_type": "markdown",
      "metadata": {
        "id": "JPE1JAOMpXFD"
      },
      "source": [
        "### Opção 2:\n",
        "Instalar o pacote basedosdados, e importar a base diretamente. Mais detalhes em: https://basedosdados.github.io/mais/access_data_packages/#primeiros-passos.\n",
        "\n",
        "Vocês terão que criar um projeto em https://console.cloud.google.com/projectselector2/home/dashboard?pli=1 para pegar o billing_project_id (ID do projeto)"
      ]
    },
    {
      "cell_type": "code",
      "execution_count": 32,
      "metadata": {
        "id": "2LtkuGTKnZE1"
      },
      "outputs": [],
      "source": [
        "# !pip install basedosdados\n",
        "# import basedosdados as bd\n",
        "# # Para carregar o dado direto no pandas\n",
        "# df = bd.read_table(\n",
        "#     dataset_id='br_mobilidados_indicadores',\n",
        "#   table_id='tempo_deslocamento_casa_trabalho',\\\n",
        "#   billing_project_id=\"<YOUR_PROJECT_ID>\"  # colocar aqui o ID do projeto do gcloud\n",
        "# )"
      ]
    },
    {
      "cell_type": "code",
      "execution_count": 33,
      "metadata": {
        "id": "XJwqVNnr9BQY"
      },
      "outputs": [
        {
          "data": {
            "text/html": [
              "<div>\n",
              "<style scoped>\n",
              "    .dataframe tbody tr th:only-of-type {\n",
              "        vertical-align: middle;\n",
              "    }\n",
              "\n",
              "    .dataframe tbody tr th {\n",
              "        vertical-align: top;\n",
              "    }\n",
              "\n",
              "    .dataframe thead th {\n",
              "        text-align: right;\n",
              "    }\n",
              "</style>\n",
              "<table border=\"1\" class=\"dataframe\">\n",
              "  <thead>\n",
              "    <tr style=\"text-align: right;\">\n",
              "      <th></th>\n",
              "      <th>ano</th>\n",
              "      <th>sigla_uf</th>\n",
              "      <th>id_municipio</th>\n",
              "      <th>tempo_medio_deslocamento</th>\n",
              "      <th>prop_deslocamento_acima_1_hora</th>\n",
              "    </tr>\n",
              "  </thead>\n",
              "  <tbody>\n",
              "    <tr>\n",
              "      <th>0</th>\n",
              "      <td>2010</td>\n",
              "      <td>RO</td>\n",
              "      <td>1100205</td>\n",
              "      <td>28</td>\n",
              "      <td>7.0</td>\n",
              "    </tr>\n",
              "    <tr>\n",
              "      <th>1</th>\n",
              "      <td>2010</td>\n",
              "      <td>AC</td>\n",
              "      <td>1200401</td>\n",
              "      <td>26</td>\n",
              "      <td>5.0</td>\n",
              "    </tr>\n",
              "    <tr>\n",
              "      <th>2</th>\n",
              "      <td>2010</td>\n",
              "      <td>PA</td>\n",
              "      <td>1202400</td>\n",
              "      <td>21</td>\n",
              "      <td>3.0</td>\n",
              "    </tr>\n",
              "    <tr>\n",
              "      <th>3</th>\n",
              "      <td>2010</td>\n",
              "      <td>PA</td>\n",
              "      <td>1206500</td>\n",
              "      <td>25</td>\n",
              "      <td>7.0</td>\n",
              "    </tr>\n",
              "    <tr>\n",
              "      <th>4</th>\n",
              "      <td>2010</td>\n",
              "      <td>AM</td>\n",
              "      <td>1302603</td>\n",
              "      <td>41</td>\n",
              "      <td>17.0</td>\n",
              "    </tr>\n",
              "    <tr>\n",
              "      <th>...</th>\n",
              "      <td>...</td>\n",
              "      <td>...</td>\n",
              "      <td>...</td>\n",
              "      <td>...</td>\n",
              "      <td>...</td>\n",
              "    </tr>\n",
              "    <tr>\n",
              "      <th>224</th>\n",
              "      <td>2010</td>\n",
              "      <td>GO</td>\n",
              "      <td>5220686</td>\n",
              "      <td>16</td>\n",
              "      <td>2.0</td>\n",
              "    </tr>\n",
              "    <tr>\n",
              "      <th>225</th>\n",
              "      <td>2010</td>\n",
              "      <td>GO</td>\n",
              "      <td>5221858</td>\n",
              "      <td>47</td>\n",
              "      <td>28.0</td>\n",
              "    </tr>\n",
              "    <tr>\n",
              "      <th>226</th>\n",
              "      <td>2010</td>\n",
              "      <td>GO</td>\n",
              "      <td>5222203</td>\n",
              "      <td>25</td>\n",
              "      <td>5.0</td>\n",
              "    </tr>\n",
              "    <tr>\n",
              "      <th>227</th>\n",
              "      <td>2010</td>\n",
              "      <td>GO</td>\n",
              "      <td>5222302</td>\n",
              "      <td>24</td>\n",
              "      <td>8.0</td>\n",
              "    </tr>\n",
              "    <tr>\n",
              "      <th>228</th>\n",
              "      <td>2010</td>\n",
              "      <td>DF</td>\n",
              "      <td>5300108</td>\n",
              "      <td>39</td>\n",
              "      <td>16.0</td>\n",
              "    </tr>\n",
              "  </tbody>\n",
              "</table>\n",
              "<p>229 rows × 5 columns</p>\n",
              "</div>"
            ],
            "text/plain": [
              "      ano sigla_uf  id_municipio  tempo_medio_deslocamento  \\\n",
              "0    2010       RO       1100205                        28   \n",
              "1    2010       AC       1200401                        26   \n",
              "2    2010       PA       1202400                        21   \n",
              "3    2010       PA       1206500                        25   \n",
              "4    2010       AM       1302603                        41   \n",
              "..    ...      ...           ...                       ...   \n",
              "224  2010       GO       5220686                        16   \n",
              "225  2010       GO       5221858                        47   \n",
              "226  2010       GO       5222203                        25   \n",
              "227  2010       GO       5222302                        24   \n",
              "228  2010       DF       5300108                        39   \n",
              "\n",
              "     prop_deslocamento_acima_1_hora  \n",
              "0                               7.0  \n",
              "1                               5.0  \n",
              "2                               3.0  \n",
              "3                               7.0  \n",
              "4                              17.0  \n",
              "..                              ...  \n",
              "224                             2.0  \n",
              "225                            28.0  \n",
              "226                             5.0  \n",
              "227                             8.0  \n",
              "228                            16.0  \n",
              "\n",
              "[229 rows x 5 columns]"
            ]
          },
          "execution_count": 33,
          "metadata": {},
          "output_type": "execute_result"
        }
      ],
      "source": [
        "df"
      ]
    },
    {
      "attachments": {},
      "cell_type": "markdown",
      "metadata": {
        "id": "_nL4_4PEaawP"
      },
      "source": [
        "Antes de começarmos a análise, é importante explorar se há valores faltantes."
      ]
    },
    {
      "cell_type": "code",
      "execution_count": 34,
      "metadata": {
        "id": "D2yqkkLNan8S"
      },
      "outputs": [
        {
          "data": {
            "text/plain": [
              "0"
            ]
          },
          "execution_count": 34,
          "metadata": {},
          "output_type": "execute_result"
        }
      ],
      "source": [
        "df['tempo_medio_deslocamento'].isnull().sum()"
      ]
    },
    {
      "attachments": {},
      "cell_type": "markdown",
      "metadata": {
        "id": "SiR5qAW2bjco"
      },
      "source": [
        "Não há valores faltantes."
      ]
    },
    {
      "attachments": {},
      "cell_type": "markdown",
      "metadata": {
        "id": "Qy6G6B-U-mY7"
      },
      "source": [
        "### Vamos calcular o intervalo de confiança para o tempo medio de deslocamento no estado de MG para um nível de confiança de 95%."
      ]
    },
    {
      "cell_type": "code",
      "execution_count": 35,
      "metadata": {
        "id": "SF-lNDIE-iEq"
      },
      "outputs": [
        {
          "name": "stdout",
          "output_type": "stream",
          "text": [
            "O tempo médio de deslocamento no estado de MG é de 33.95, e o desvio padrão é de, 10.49\n"
          ]
        }
      ],
      "source": [
        "## Primeiro, vamos calcular a media e o desvio padrao\n",
        "df_mg = df[df['sigla_uf']=='MG']\n",
        "\n",
        "media_mg = df_mg['tempo_medio_deslocamento'].mean()\n",
        "std_mg = df_mg['tempo_medio_deslocamento'].std(ddof=0)\n",
        "\n",
        "print(\n",
        "    f'O tempo médio de deslocamento no estado de MG é de',\n",
        "    f'{np.round(media_mg,2)}, e o desvio padrão é de, {np.round(std_mg,2)}'\n",
        ")"
      ]
    },
    {
      "cell_type": "code",
      "execution_count": 36,
      "metadata": {
        "id": "N0LfA7ClACtZ"
      },
      "outputs": [],
      "source": [
        "## Agora, voltando à tabela do Z-score, vemos que o valor de Z\n",
        "## correspondente a um nível de confiança de 95% é de 1.96\n",
        "## Assim, podemos calcular o intervalo de confiança:\n",
        "\n",
        "sqrt_size_mg = np.sqrt(len(df_mg))\n",
        "\n",
        "z = 1.96\n",
        "CI_inf_mg = media_mg - z*(std_mg/sqrt_size_mg)\n",
        "CI_sup_mg = media_mg + z*(std_mg/sqrt_size_mg)"
      ]
    },
    {
      "cell_type": "code",
      "execution_count": 37,
      "metadata": {
        "id": "EwRgysOvA1-J"
      },
      "outputs": [
        {
          "name": "stdout",
          "output_type": "stream",
          "text": [
            "(30.61, 37.28)\n"
          ]
        }
      ],
      "source": [
        "print(f'({np.round(CI_inf_mg,2)}, {np.round(CI_sup_mg,2)})')"
      ]
    },
    {
      "attachments": {},
      "cell_type": "markdown",
      "metadata": {
        "id": "WA2eaVytBfSo"
      },
      "source": [
        "## Exercício 1\n",
        "\n",
        "Qual é o CI do tempo médio de deslocamento casa-trabalho para o estado de MG, considerando um nível de confiança de 90%?"
      ]
    },
    {
      "cell_type": "code",
      "execution_count": 38,
      "metadata": {
        "id": "b9sRK9UIUrWx"
      },
      "outputs": [
        {
          "name": "stdout",
          "output_type": "stream",
          "text": [
            "(31.15, 36.75)\n"
          ]
        }
      ],
      "source": [
        "#Z score para 90% de confiança\n",
        "z_novo = 1.645\n",
        "\n",
        "CI_inf_mg_novo = media_mg - z_novo*(std_mg/sqrt_size_mg)\n",
        "CI_sup_mg_novo = media_mg + z_novo*(std_mg/sqrt_size_mg)\n",
        "\n",
        "print(f'({np.round(CI_inf_mg_novo,2)}, {np.round(CI_sup_mg_novo,2)})')"
      ]
    },
    {
      "attachments": {},
      "cell_type": "markdown",
      "metadata": {
        "id": "QfiTVIclUrvc"
      },
      "source": [
        "## Exercício 2\n",
        "\n",
        "Qual é o CI do tempo médio de deslocamento casa-trabalho para o estado de SP, considerando um nível de confiança de 95%?"
      ]
    },
    {
      "cell_type": "code",
      "execution_count": 39,
      "metadata": {
        "id": "503EGlrSU0y8"
      },
      "outputs": [
        {
          "name": "stdout",
          "output_type": "stream",
          "text": [
            "O tempo médio de deslocamento no estado de SP é de 44.51, e o desvio padrão é de, 8.33\n",
            "(41.9, 47.13)\n"
          ]
        }
      ],
      "source": [
        "df_sp = df[df['sigla_uf']=='SP']\n",
        "\n",
        "media_sp = df_sp['tempo_medio_deslocamento'].mean()\n",
        "std_sp = df_sp['tempo_medio_deslocamento'].std(ddof=0)\n",
        "\n",
        "print(\n",
        "    f'O tempo médio de deslocamento no estado de SP é de',\n",
        "    f'{np.round(media_sp,2)}, e o desvio padrão é de, {np.round(std_sp,2)}'\n",
        ")\n",
        "\n",
        "sqrt_size_sp = np.sqrt(len(df_sp))\n",
        "\n",
        "z = 1.96\n",
        "\n",
        "CI_inf_sp = media_sp - z*(std_sp/sqrt_size_sp)\n",
        "CI_sup_sp = media_sp + z*(std_sp/sqrt_size_sp)\n",
        "\n",
        "print(f'({np.round(CI_inf_sp,2)}, {np.round(CI_sup_sp,2)})')"
      ]
    },
    {
      "attachments": {},
      "cell_type": "markdown",
      "metadata": {
        "id": "qvCxFKxTU1nm"
      },
      "source": [
        "## Exercício 3\n",
        "\n",
        "Qual é o CI do tempo **mediano** de deslocamento casa-trabalho para o estado de SP, considerando um nível de confiança de 95%?"
      ]
    },
    {
      "cell_type": "code",
      "execution_count": 40,
      "metadata": {
        "id": "26AF4cedU9kq"
      },
      "outputs": [
        {
          "name": "stdout",
          "output_type": "stream",
          "text": [
            "(40.0, 48.0)\n"
          ]
        }
      ],
      "source": [
        "df_sp = df[df['sigla_uf']=='SP']\n",
        "\n",
        "mediana_sp = np.zeros(10000)\n",
        "\n",
        "for i in range(10000):\n",
        "    sample = df_sp['tempo_medio_deslocamento'].sample(len(df_sp), replace=True)\n",
        "    mediana_sp[i] = sample.median()\n",
        "\n",
        "CI_inf_sp = np.percentile(mediana_sp, 2.5)\n",
        "CI_sup_sp = np.percentile(mediana_sp, 97.5)\n",
        "\n",
        "print(f'({np.round(CI_inf_sp,2)}, {np.round(CI_sup_sp,2)})')"
      ]
    },
    {
      "attachments": {},
      "cell_type": "markdown",
      "metadata": {
        "id": "fI7HkUs5U-Fa"
      },
      "source": [
        "### Biblioteca scipy.stats\n",
        "\n",
        "O módulo de funções estatísticas scipy stats nos permite calcular o CI chamando apenas uma função. Para maiores informações, ver https://docs.scipy.org/doc/scipy/reference/generated/scipy.stats.norm.html."
      ]
    },
    {
      "cell_type": "code",
      "execution_count": 41,
      "metadata": {
        "id": "UXTBErLABclW"
      },
      "outputs": [],
      "source": [
        "import scipy.stats as st\n",
        "\n",
        "# Voltando ao problema inicial, vamos calcular o intervalo de confiança para\n",
        "# o tempo medio de deslocamento no estado de MG para um nível de confiança de 95%.\n",
        "# confidence = nivel de confiança\n",
        "# loc = array dos dados para media\n",
        "# scale = desvio padrão amostral da média\n",
        "\n",
        "ci = st.norm.interval(\n",
        "    confidence=0.95,\n",
        "    loc=media_mg,\n",
        "    scale=st.sem(\n",
        "        df_mg['tempo_medio_deslocamento'],\n",
        "        ddof=0,\n",
        "        nan_policy='omit'\n",
        "    )\n",
        ")"
      ]
    },
    {
      "cell_type": "code",
      "execution_count": 42,
      "metadata": {
        "id": "jJox9e8kY3SA"
      },
      "outputs": [
        {
          "data": {
            "text/plain": [
              "array([30.61, 37.28])"
            ]
          },
          "execution_count": 42,
          "metadata": {},
          "output_type": "execute_result"
        }
      ],
      "source": [
        "np.round(ci,2)"
      ]
    },
    {
      "cell_type": "code",
      "execution_count": 43,
      "metadata": {},
      "outputs": [
        {
          "data": {
            "text/plain": [
              "array([31.15, 36.75])"
            ]
          },
          "execution_count": 43,
          "metadata": {},
          "output_type": "execute_result"
        }
      ],
      "source": [
        "#Testando as outras CIs\n",
        "ci = st.norm.interval(\n",
        "    confidence=0.90,\n",
        "    loc=media_mg,\n",
        "    scale=st.sem(\n",
        "        df_mg['tempo_medio_deslocamento'],\n",
        "        ddof=0,\n",
        "        nan_policy='omit'\n",
        "    )\n",
        ")\n",
        "\n",
        "np.round(ci,2)"
      ]
    },
    {
      "attachments": {},
      "cell_type": "markdown",
      "metadata": {
        "id": "AqXAYCAZW9LH"
      },
      "source": [
        "## Exercício 4\n",
        "\n",
        "Usando a biblioteca scipy.stats, calcule e imprima o CI do tempo médio de deslocamento para cada estado brasileiro, com nível de confiança de 99% ."
      ]
    },
    {
      "cell_type": "code",
      "execution_count": 44,
      "metadata": {
        "id": "_8124dEUXRJw"
      },
      "outputs": [
        {
          "data": {
            "text/plain": [
              "array(['RO', 'AC', 'PA', 'AM', 'RR', 'AP', 'TO', 'MA', 'PI', 'CE', 'RN',\n",
              "       'PB', 'PE', 'AL', 'SE', 'BA', 'MG', 'ES', 'RJ', 'SP', 'PR', 'SC',\n",
              "       'RS', 'MS', 'MT', 'GO', 'DF'], dtype=object)"
            ]
          },
          "execution_count": 44,
          "metadata": {},
          "output_type": "execute_result"
        }
      ],
      "source": [
        "# Dica: a função unique dá o array de todos os estados\n",
        "estados = df['sigla_uf'].unique()\n",
        "estados"
      ]
    },
    {
      "cell_type": "code",
      "execution_count": 45,
      "metadata": {
        "id": "OwplGccFP8nT"
      },
      "outputs": [
        {
          "name": "stdout",
          "output_type": "stream",
          "text": [
            "RO -> CI: [nan nan]\n",
            "AC -> CI: [nan nan]\n",
            "PA -> CI: [25.98 40.02]\n",
            "AM -> CI: [nan nan]\n",
            "RR -> CI: [nan nan]\n",
            "AP -> CI: [nan nan]\n",
            "TO -> CI: [nan nan]\n",
            "MA -> CI: [nan nan]\n",
            "PI -> CI: [nan nan]\n",
            "CE -> CI: [22.25 29.01]\n",
            "RN -> CI: [nan nan]\n",
            "PB -> CI: [nan nan]\n",
            "PE -> CI: [34.31 43.82]\n",
            "AL -> CI: [nan nan]\n",
            "SE -> CI: [nan nan]\n",
            "BA -> CI: [27.55 35.06]\n",
            "MG -> CI: [29.56 38.33]\n",
            "ES -> CI: [nan nan]\n",
            "RJ -> CI: [39.85 51.49]\n",
            "SP -> CI: [41.08 47.95]\n",
            "PR -> CI: [29.2  37.97]\n",
            "SC -> CI: [nan nan]\n",
            "RS -> CI: [nan nan]\n",
            "MS -> CI: [nan nan]\n",
            "MT -> CI: [nan nan]\n",
            "GO -> CI: [24.13 36.13]\n",
            "DF -> CI: [nan nan]\n"
          ]
        },
        {
          "name": "stderr",
          "output_type": "stream",
          "text": [
            "c:\\Users\\thais\\AppData\\Local\\Programs\\Python\\Python311\\Lib\\site-packages\\scipy\\stats\\_distn_infrastructure.py:2351: RuntimeWarning: invalid value encountered in multiply\n",
            "  lower_bound = _a * scale + loc\n",
            "c:\\Users\\thais\\AppData\\Local\\Programs\\Python\\Python311\\Lib\\site-packages\\scipy\\stats\\_distn_infrastructure.py:2352: RuntimeWarning: invalid value encountered in multiply\n",
            "  upper_bound = _b * scale + loc\n"
          ]
        }
      ],
      "source": [
        "for i in estados:\n",
        "  df_estado = df[df['sigla_uf']==i]\n",
        "  media_estado = df_estado['tempo_medio_deslocamento'].mean()\n",
        "  ci = st.norm.interval(\n",
        "    confidence=0.99,\n",
        "    loc=media_estado,\n",
        "    scale=st.sem(\n",
        "        df_estado['tempo_medio_deslocamento'],\n",
        "        ddof=0,\n",
        "        nan_policy='omit'\n",
        "    )\n",
        "  )\n",
        "  print(f'{i} -> CI: {np.round(ci,2)}')"
      ]
    },
    {
      "attachments": {},
      "cell_type": "markdown",
      "metadata": {
        "id": "c0triLjibE3B"
      },
      "source": [
        "## Exercício 5\n",
        "Se não há valores nulos, por que a função retorna NA para alguns estados?"
      ]
    },
    {
      "attachments": {},
      "cell_type": "markdown",
      "metadata": {
        "id": "NDkZBh6abP8h"
      },
      "source": [
        "Isso ocorre pois a função que calcula o erro padrão retorna NA caso a amostra possua tamanho insuficiente, ou sejá quando existe apenas um dado a ser analisado. Dessa forma os estados que retornaram nan possuem apenas uma observação no banco de dados."
      ]
    },
    {
      "attachments": {},
      "cell_type": "markdown",
      "metadata": {
        "id": "Uc6n2JacbQim"
      },
      "source": [
        "## Exercício 6\n",
        "\n",
        "Crie uma visualização (a seu critério) para mostrar os intervalos de confiança dos estados com valores não nulos. Qual padrão você observa?"
      ]
    },
    {
      "cell_type": "code",
      "execution_count": 46,
      "metadata": {
        "id": "rHgfu15-bhFs"
      },
      "outputs": [
        {
          "data": {
            "image/png": "[encoded data removed]",
            "text/plain": [
              "<Figure size 1000x500 with 1 Axes>"
            ]
          },
          "metadata": {},
          "output_type": "display_data"
        }
      ],
      "source": [
        "means = []\n",
        "CI = []\n",
        "estados = df['sigla_uf'].unique()\n",
        "\n",
        "#Calculo dos intervalos de confiança\n",
        "for i in estados:\n",
        "  df_estado = df[df['sigla_uf']==i]\n",
        "  media_estado = df_estado['tempo_medio_deslocamento'].mean()\n",
        "  ci = st.norm.interval(\n",
        "    confidence=0.99,\n",
        "    loc=media_estado,\n",
        "    scale=st.sem(\n",
        "        df_estado['tempo_medio_deslocamento'],\n",
        "        ddof=0,\n",
        "        nan_policy='omit'\n",
        "    )\n",
        "  )\n",
        "\n",
        "  if np.isnan(ci).sum() == 0:\n",
        "    means.append(media_estado)\n",
        "    CI.append((ci[1] - ci[0])/2)  # metade do tamanho de CI\n",
        "  else:\n",
        "    means.append(np.nan)\n",
        "    CI.append(np.nan)\n",
        "\n",
        "#Plotando o gráfico\n",
        "plt.figure(figsize=(10,5))\n",
        "plt.errorbar(x = estados, y = means, yerr = CI,  fmt='o', capsize=5, color='black')\n",
        "plt.xlabel('Estados')\n",
        "plt.ylabel('Tempo médio de deslocamento')\n",
        "plt.title('Intervalos de confiança para tempo médio de deslocamento por estado')\n",
        "plt.tight_layout()\n",
        "plt.show()"
      ]
    }
  ],
  "metadata": {
    "colab": {
      "provenance": []
    },
    "gpuClass": "standard",
    "kernelspec": {
      "display_name": "Python 3",
      "name": "python3"
    },
    "language_info": {
      "codemirror_mode": {
        "name": "ipython",
        "version": 3
      },
      "file_extension": ".py",
      "mimetype": "text/x-python",
      "name": "python",
      "nbconvert_exporter": "python",
      "pygments_lexer": "ipython3",
      "version": "3.11.2"
    }
  },
  "nbformat": 4,
  "nbformat_minor": 0
}
