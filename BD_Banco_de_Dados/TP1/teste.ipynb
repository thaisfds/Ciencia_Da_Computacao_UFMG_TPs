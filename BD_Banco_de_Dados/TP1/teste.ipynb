{
 "cells": [
  {
   "cell_type": "code",
   "execution_count": 3,
   "metadata": {},
   "outputs": [],
   "source": [
    "import io\n",
    "import sqlite3\n",
    "import pandas as pd\n",
    "import matplotlib.pyplot as plt\n",
    "from pandasql import sqldf\n",
    "from sklearn import datasets"
   ]
  },
  {
   "cell_type": "code",
   "execution_count": 4,
   "metadata": {},
   "outputs": [],
   "source": [
    "conn = sqlite3.connect(\"database\")\n",
    "cursor = conn.cursor()"
   ]
  },
  {
   "cell_type": "code",
   "execution_count": 3,
   "metadata": {},
   "outputs": [
    {
     "ename": "OperationalError",
     "evalue": "table 'partidas' already exists",
     "output_type": "error",
     "traceback": [
      "\u001b[0;31m---------------------------------------------------------------------------\u001b[0m",
      "\u001b[0;31mOperationalError\u001b[0m                          Traceback (most recent call last)",
      "Cell \u001b[0;32mIn [3], line 3\u001b[0m\n\u001b[1;32m      1\u001b[0m f \u001b[39m=\u001b[39m io\u001b[39m.\u001b[39mopen(\u001b[39m\"\u001b[39m\u001b[39mdatabase.sql\u001b[39m\u001b[39m\"\u001b[39m, \u001b[39m'\u001b[39m\u001b[39mr\u001b[39m\u001b[39m'\u001b[39m, encoding\u001b[39m=\u001b[39m\u001b[39m\"\u001b[39m\u001b[39mUTF-8\u001b[39m\u001b[39m\"\u001b[39m)\n\u001b[1;32m      2\u001b[0m sql \u001b[39m=\u001b[39m f\u001b[39m.\u001b[39mread()\n\u001b[0;32m----> 3\u001b[0m cursor\u001b[39m.\u001b[39;49mexecutescript(sql)\n",
      "\u001b[0;31mOperationalError\u001b[0m: table 'partidas' already exists"
     ]
    }
   ],
   "source": [
    "f = io.open(\"database.sql\", 'r', encoding=\"UTF-8\")\n",
    "sql = f.read()\n",
    "cursor.executescript(sql)"
   ]
  },
  {
   "cell_type": "code",
   "execution_count": 28,
   "metadata": {},
   "outputs": [],
   "source": [
    "#1/1\n",
    "A0 = \"\"\"\n",
    "    SELECT DISTINCT nome_jogador \n",
    "    FROM jogadores \n",
    "    WHERE numero_camisa = 14\n",
    "    \"\"\"\n",
    "\n",
    "#1/1\n",
    "A1 = \"\"\"\n",
    "    SELECT DISTINCT nome_jogador \n",
    "    FROM (jogadores NATURAL JOIN partidas) \n",
    "    WHERE iniciais_time = 'ITA' AND ano = 1994\n",
    "    \"\"\"\n",
    "\n",
    "#1/1\n",
    "A2 = \"\"\"\n",
    "    SELECT DISTINCT estadio \n",
    "    FROM (local NATURAL JOIN partidas) \n",
    "    WHERE ano = 1958\n",
    "    \"\"\"\n",
    "\n",
    "#0.6/1\n",
    "A3 = \"\"\"\n",
    "    SELECT DISTINCT nome_treinador \n",
    "    FROM (jogadores NATURAL JOIN partidas) \n",
    "    WHERE gols_mandante >= 7\n",
    "    \"\"\"\n",
    "\n",
    "#1/1\n",
    "A4 = \"\"\"\n",
    "    SELECT DISTINCT time_mandante \n",
    "    FROM (copasdomundo NATURAL JOIN partidas) \n",
    "    WHERE gols_marcados >=150\n",
    "    \"\"\"\n",
    "\n",
    "#1/1\n",
    "B1 = \"\"\"\n",
    "    SELECT DISTINCT iniciais_time, nome_treinador\n",
    "    FROM partidas NATURAL JOIN jogadores\n",
    "    WHERE partidas.ano = 1970 AND partidas.fase = 'Quartas de Final'\n",
    "\"\"\"\n",
    "\n",
    "#1/1\n",
    "B2 = \"\"\"\n",
    "    SELECT DISTINCT id_partida, data_hora, ano \n",
    "    FROM partidas \n",
    "    WHERE fase = 'Final'\n",
    "\"\"\"\n",
    "\n",
    "#0\n",
    "B5 = \"\"\"\n",
    "    SELECT cidade, estadio, publico, gols_mandante, gols_visitante\n",
    "    FROM local NATURAL JOIN partidas\n",
    "    WHERE ano = 2006 AND (gols_mandante >= 3 OR gols_visitante >= 3)  \n",
    "\"\"\"\n",
    "\n",
    "# 1/1\n",
    "B7 = \"\"\"\n",
    "    SELECT DISTINCT nome_treinador, juiz, copasdomundo.ano \n",
    "    FROM (copasdomundo NATURAL JOIN partidas NATURAL JOIN jogadores NATURAL JOIN arbitragem) \n",
    "    WHERE copasdomundo.campeao = 'Brasil' AND fase = 'Final' AND iniciais_time = 'BRA' \n",
    "    ORDER BY copasdomundo.ano ASC\n",
    "\"\"\"\n",
    "\n",
    "#1/1\n",
    "B9 = \"\"\"\n",
    "    SELECT DISTINCT juiz, data_hora \n",
    "    FROM (arbitragem NATURAL JOIN partidas) \n",
    "    WHERE ano = 2010 ORDER BY publico \n",
    "    DESC LIMIT 5\n",
    "\"\"\"\n",
    "\n"
   ]
  },
  {
   "cell_type": "code",
   "execution_count": 29,
   "metadata": {},
   "outputs": [
    {
     "data": {
      "text/html": [
       "<div>\n",
       "<style scoped>\n",
       "    .dataframe tbody tr th:only-of-type {\n",
       "        vertical-align: middle;\n",
       "    }\n",
       "\n",
       "    .dataframe tbody tr th {\n",
       "        vertical-align: top;\n",
       "    }\n",
       "\n",
       "    .dataframe thead th {\n",
       "        text-align: right;\n",
       "    }\n",
       "</style>\n",
       "<table border=\"1\" class=\"dataframe\">\n",
       "  <thead>\n",
       "    <tr style=\"text-align: right;\">\n",
       "      <th></th>\n",
       "      <th>nome_treinador</th>\n",
       "      <th>juiz</th>\n",
       "      <th>ano</th>\n",
       "    </tr>\n",
       "  </thead>\n",
       "  <tbody>\n",
       "    <tr>\n",
       "      <th>0</th>\n",
       "      <td>FEOLA Vicente (BRA)</td>\n",
       "      <td>GUIGUE Maurice (FRA)</td>\n",
       "      <td>1958</td>\n",
       "    </tr>\n",
       "    <tr>\n",
       "      <th>1</th>\n",
       "      <td>MOREIRA Aymore (BRA)</td>\n",
       "      <td>LATYCHEV Nikolaj (URS)</td>\n",
       "      <td>1962</td>\n",
       "    </tr>\n",
       "    <tr>\n",
       "      <th>2</th>\n",
       "      <td>ZAGALLO Mario (BRA)</td>\n",
       "      <td>GLOECKNER Rudolf (GDR)</td>\n",
       "      <td>1970</td>\n",
       "    </tr>\n",
       "    <tr>\n",
       "      <th>3</th>\n",
       "      <td>PARREIRA Carlos Alberto (BRA)</td>\n",
       "      <td>PUHL Sandor (HUN)</td>\n",
       "      <td>1994</td>\n",
       "    </tr>\n",
       "    <tr>\n",
       "      <th>4</th>\n",
       "      <td>SCOLARI Luiz Felipe (BRA)</td>\n",
       "      <td>COLLINA Pierluigi (ITA)</td>\n",
       "      <td>2002</td>\n",
       "    </tr>\n",
       "  </tbody>\n",
       "</table>\n",
       "</div>"
      ],
      "text/plain": [
       "                  nome_treinador                     juiz   ano\n",
       "0            FEOLA Vicente (BRA)     GUIGUE Maurice (FRA)  1958\n",
       "1           MOREIRA Aymore (BRA)   LATYCHEV Nikolaj (URS)  1962\n",
       "2            ZAGALLO Mario (BRA)   GLOECKNER Rudolf (GDR)  1970\n",
       "3  PARREIRA Carlos Alberto (BRA)        PUHL Sandor (HUN)  1994\n",
       "4      SCOLARI Luiz Felipe (BRA)  COLLINA Pierluigi (ITA)  2002"
      ]
     },
     "execution_count": 29,
     "metadata": {},
     "output_type": "execute_result"
    }
   ],
   "source": [
    "consulta = pd.read_sql_query(B7,conn)\n",
    "consulta"
   ]
  }
 ],
 "metadata": {
  "kernelspec": {
   "display_name": "Python 3.10.4 64-bit",
   "language": "python",
   "name": "python3"
  },
  "language_info": {
   "codemirror_mode": {
    "name": "ipython",
    "version": 3
   },
   "file_extension": ".py",
   "mimetype": "text/x-python",
   "name": "python",
   "nbconvert_exporter": "python",
   "pygments_lexer": "ipython3",
   "version": "3.10.6"
  },
  "orig_nbformat": 4,
  "vscode": {
   "interpreter": {
    "hash": "916dbcbb3f70747c44a77c7bcd40155683ae19c65e1c03b4aa3499c5328201f1"
   }
  }
 },
 "nbformat": 4,
 "nbformat_minor": 2
}
