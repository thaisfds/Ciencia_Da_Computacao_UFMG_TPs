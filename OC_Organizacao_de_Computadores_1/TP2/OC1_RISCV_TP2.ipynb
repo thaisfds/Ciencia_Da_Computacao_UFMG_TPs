{
  "cells": [
    {
      "cell_type": "markdown",
      "metadata": {
        "id": "7pAvIpiD2R2W"
      },
      "source": [
        "# RiscV sem Forward com unidade de Hazard\n",
        "\n",
        "* Desvio 4 estágio\n",
        "* Unidade de Hazard trata dependências considerando rs1 e rs2 para instruções ALU, ALU com Rs1 e Imediato, Lw/Sw e Branches"
      ]
    },
    {
      "cell_type": "markdown",
      "metadata": {
        "id": "OvvOFNLrFjn0"
      },
      "source": [
        "## Instruções suportadas\n",
        "\n",
        "Descreva aqui quais instruções são suportadas pelo seu processador. Voce deverá adicionar ad instruçoes destacadas com //:\n",
        "\n",
        "* lw Rd, Im(Rs1)\n",
        "* sw Rs2, Im(Rs1)\n",
        "* bne, blt, bge,bltu, bgeu Rs1, Rs2, label\n",
        "* // beq, Rs1, Rs2, label //\n",
        "* add Rd, Rs1, Rs2  e addi Rd, Rs1, Im\n",
        "* sub Rd, Rs1, Rs2\n",
        "* and Rd, Rs1, Rs2\n",
        "* // andi Rd, Rs1, Rs2 // \n",
        "* or Rd, Rs1, Rs2   e ori\n",
        "* nor Rd, Rs1, Rs2  e nori\n",
        "* xor Rd, Rs1, Rs2  e xor i\n",
        "* slt Rd, Rs1, Rs2  e slt i\n",
        "* sll Rd, Rs1, Rs2 e slli\n",
        "* slr Rd,Rs1, Rs2 e slri\n",
        "* // mul Rd, Rs1, Rs2 //\n",
        "* // div Rd, Rs1, Rs2 //\n"
      ]
    },
    {
      "cell_type": "markdown",
      "metadata": {
        "id": "SrjH4jh6pXPw"
      },
      "source": [
        "# Assembly"
      ]
    },
    {
      "cell_type": "code",
      "execution_count": 104,
      "metadata": {
        "colab": {
          "base_uri": "https://localhost:8080/"
        },
        "id": "cTPhseIID_f8",
        "outputId": "b5fdbba8-bdaf-426b-c69a-f688ece5b236"
      },
      "outputs": [
        {
          "output_type": "stream",
          "name": "stdout",
          "text": [
            "Overwriting instructions.txt\n"
          ]
        }
      ],
      "source": [
        "%%writefile instructions.txt\n",
        "nop\n",
        "addi x1, x0, 1\n",
        "addi x2, x2, 2\n",
        "add x3, x1, x2\n",
        "beq x1, x3, end\n",
        "end: nop"
      ]
    },
    {
      "cell_type": "code",
      "execution_count": 105,
      "metadata": {
        "colab": {
          "base_uri": "https://localhost:8080/"
        },
        "id": "DAGgyh12C6W7",
        "outputId": "e41e91c0-11bb-412e-90a2-0300153b8c1a"
      },
      "outputs": [
        {
          "output_type": "stream",
          "name": "stdout",
          "text": [
            "['0x13', '0x100093', '0x210113', '0x20801b3', '0x308463', '0x13']\n"
          ]
        }
      ],
      "source": [
        "# https://datagy.io/python-int-to-binary/#:~:text=If%20you're%20wanting%20to,convert%20an%20integer%20to%20binary.\n",
        "# https://stackoverflow.com/questions/2072351/python-conversion-from-binary-string-to-hexadecimal\n",
        "# https://stackoverflow.com/questions/339007/how-do-i-pad-a-string-with-zeroes\n",
        "\n",
        "# consulta: Guia prático RISC-V Atlas de uma Arquitetura Aberta Primeira edição, 1.0.0\n",
        "register_numbers = {\n",
        "    'x0' : 0,\n",
        "    'zero': 0,\n",
        "    'x1' : 1,\n",
        "    'ra': 1,\n",
        "    'x2' : 2,\n",
        "    'sp' : 2,\n",
        "    'x3' : 3,\n",
        "    'gp' : 3,\n",
        "    'x4' : 4,\n",
        "    'tp' : 4,\n",
        "    'x5' : 5,\n",
        "    't0' : 5,\n",
        "    'x6' : 6,\n",
        "    't1' : 6,\n",
        "    'x7' : 7,\n",
        "    't2' : 7,\n",
        "    'x8' : 8,\n",
        "    's0' : 8,\n",
        "    'fp' : 8,\n",
        "    'x9' : 9,\n",
        "    's1' : 9,\n",
        "    'x10' : 10,\n",
        "    'a0' : 10,\n",
        "    'x11' : 11,\n",
        "    'a1' : 11,\n",
        "    'x12' : 12,\n",
        "    'a2' : 12,\n",
        "    'x13' : 13,\n",
        "    'a3' : 13,\n",
        "    'x14' : 14,\n",
        "    'a4' : 14,\n",
        "    'x15' : 15,\n",
        "    'a5' : 15,\n",
        "    'x16' : 16,\n",
        "    'a6' : 16,\n",
        "    'x17' : 17,\n",
        "    'a7' : 17,\n",
        "    'x18' : 18,\n",
        "    's2' : 18,\n",
        "    'x19' : 19,\n",
        "    's3' : 19,\n",
        "    'x20' : 20,\n",
        "    's4' : 20,\n",
        "    'x21' : 21,\n",
        "    's5' : 21,\n",
        "    'x22' : 22,\n",
        "    's6' : 22,\n",
        "    'x23' : 23,\n",
        "    's7' : 23,\n",
        "    'x24' : 24,\n",
        "    's8' : 24,\n",
        "    'x25' : 25,\n",
        "    's9' : 25,\n",
        "    'x26' : 26,\n",
        "    's10' : 26,\n",
        "    'x27' : 27,\n",
        "    's11' : 27,\n",
        "    'x28' : 28,\n",
        "    't3' : 28,\n",
        "    'x29' : 29,\n",
        "    't4' : 29,\n",
        "    'x30' : 30,\n",
        "    't5' : 30,\n",
        "    'x31' : 31,\n",
        "    't6' : 31\n",
        "}\n",
        "\n",
        "instruction_format = {\n",
        "    'lui': 'U',\n",
        "    'auipc': 'U',\n",
        "    'jal': 'J',\n",
        "    'jalr': 'I',\n",
        "    'beq': 'B',\n",
        "    'bne': 'B',\n",
        "    'blt': 'B',\n",
        "    'bge': 'B',\n",
        "    'bltu': 'B',\n",
        "    'bgeu': 'B',\n",
        "    'lb': 'I',\n",
        "    'lh': 'I',\n",
        "    'lw': 'I',\n",
        "    'lbu': 'I',\n",
        "    'lhu': 'I',\n",
        "    'sb': 'S',\n",
        "    'sh': 'S',\n",
        "    'sw': 'S',\n",
        "    'addi': 'I',\n",
        "    'slti': 'I',\n",
        "    'sltiu': 'I',\n",
        "    'xori': 'I',\n",
        "    'ori': 'I',\n",
        "    'andi': 'I',\n",
        "    'slli': 'I',\n",
        "    'srli': 'I',\n",
        "    'srai': 'I',\n",
        "    'add': 'R',\n",
        "    'sub': 'R',\n",
        "    'sll': 'R',\n",
        "    'slt': 'R',\n",
        "    'sltu': 'R',\n",
        "    'xor': 'R',\n",
        "    'srl': 'R',\n",
        "    'sra': 'R',\n",
        "    'or': 'R',\n",
        "    'and': 'R',\n",
        "    'fence': 'I',\n",
        "    'fence.i': 'I',\n",
        "    'ecall': 'I',\n",
        "    'ebreak': 'I',\n",
        "    'csrrw': 'I',\n",
        "    'csrrs': 'I',\n",
        "    'csrrc': 'I',\n",
        "    'csrrwi': 'I',\n",
        "    'csrrsi': 'I',\n",
        "    'csrrci': 'I'\n",
        "}\n",
        "\n",
        "instruction_opcode = {\n",
        "    'lui': '0110111',\n",
        "    'auipc': '0010111',\n",
        "    'jal': '1101111',\n",
        "    'jalr': '1100111',\n",
        "    'beq': '1100011',\n",
        "    'bne': '1100011',\n",
        "    'blt': '1100011',\n",
        "    'bge': '1100011',\n",
        "    'bltu': '1100011',\n",
        "    'bgeu': '1100011',\n",
        "    'lb': '0000011',\n",
        "    'lh': '0000011',\n",
        "    'lw': '0000011',\n",
        "    'lbu': '0000011',\n",
        "    'lhu': '0000011',\n",
        "    'sb': '0100011',\n",
        "    'sh': '0100011',\n",
        "    'sw': '0100011',\n",
        "    'addi': '0010011',\n",
        "    'slti': '0010011',\n",
        "    'sltiu': '0010011',\n",
        "    'xori': '0010011',\n",
        "    'ori': '0010011',\n",
        "    'andi': '0010011',\n",
        "    'slli': '0010011',\n",
        "    'srli': '0010011',\n",
        "    'srai': '0010011',\n",
        "    'add': '0110011',\n",
        "    'sub': '0110011',\n",
        "    'sll': '0110011',\n",
        "    'slt': '0110011',\n",
        "    'sltu': '0110011',\n",
        "    'xor': '0110011',\n",
        "    'srl': '0110011',\n",
        "    'sra': '0110011',\n",
        "    'or': '0110011',\n",
        "    'and': '0110011',\n",
        "    'fence': '0001111',\n",
        "    'fence.i': '0001111',\n",
        "    'ecall': '1110011',\n",
        "    'ebreak': '1110011',\n",
        "    'csrrw': '1110011',\n",
        "    'csrrs': '1110011',\n",
        "    'csrrc': '1110011',\n",
        "    'csrrwi': '1110011',\n",
        "    'csrrsi': '1110011',\n",
        "    'csrrci': '1110011'\n",
        "}\n",
        "\n",
        "instruction_funct3 = {\n",
        "    'jalr': '000',\n",
        "    'beq': '000',\n",
        "    'bne': '001',\n",
        "    'blt': '100',\n",
        "    'bge': '101',\n",
        "    'bltu': '110',\n",
        "    'bgeu': '111',\n",
        "    'lb': '000',\n",
        "    'lh': '001',\n",
        "    'lw': '010',\n",
        "    'lbu': '100',\n",
        "    'lhu': '101',\n",
        "    'sb': '000',\n",
        "    'sh': '001',\n",
        "    'sw': '010',\n",
        "    'addi': '000',\n",
        "    'slti': '010',\n",
        "    'sltiu': '011',\n",
        "    'xori': '100',\n",
        "    'ori': '110',\n",
        "    'andi': '111',\n",
        "    'slli': '001',\n",
        "    'srli': '101',\n",
        "    'srai': '101',\n",
        "    'add': '000',\n",
        "    'sub': '000',\n",
        "    'sll': '001',\n",
        "    'slt': '010',\n",
        "    'sltu': '011',\n",
        "    'xor': '100',\n",
        "    'srl': '101',\n",
        "    'sra': '101',\n",
        "    'or': '110',\n",
        "    'and': '111',\n",
        "    'fence': '000',\n",
        "    'fence.i': '001',\n",
        "    'ecall': '000',\n",
        "    'ebreak': '000',\n",
        "    'csrrw': '001',\n",
        "    'csrrs': '010',\n",
        "    'csrrc': '011',\n",
        "    'csrrwi': '101',\n",
        "    'csrrsi': '110',\n",
        "    'csrrci': '111',\n",
        "}\n",
        "\n",
        "instruction_funct7 = {\n",
        "    'slli': '0000000',\n",
        "    'srli': '0000000',\n",
        "    'srai': '0100000',\n",
        "    'add': '0000000',\n",
        "    'sub': '0100000',\n",
        "    'sll': '0000000',\n",
        "    'slt': '0000000',\n",
        "    'sltu': '0000000',\n",
        "    'xor': '0000000',\n",
        "    'srl': '0000000',\n",
        "    'sra': '0100000',\n",
        "    'or': '0000000',\n",
        "    'and': '0000000',\n",
        "}\n",
        "\n",
        "labels = {}\n",
        "\n",
        "def divide_one(line):\n",
        "  return line.split(' ', 1)\n",
        "\n",
        "def divide(lines):\n",
        "  divided_lines = []\n",
        "  for line in lines:\n",
        "    divided_lines.append(divide_one(line))\n",
        "  return divided_lines\n",
        "\n",
        "def normalize_one(divided_line):\n",
        "  if len(divided_line) == 1:\n",
        "    divided_line = divide_one('addi x0, x0, 0')\n",
        "  return divided_line\n",
        "\n",
        "def normalize(divided_lines):\n",
        "    normalized_lines = []\n",
        "    for line in divided_lines:\n",
        "      normalized_lines.append(normalize_one(line))\n",
        "    return normalized_lines\n",
        "\n",
        "def tokenize(content):\n",
        "  content = content.replace(' ', '')\n",
        "  return content.split(',')\n",
        "\n",
        "def r_type(pc, instruction, content):\n",
        "  opcode = instruction_opcode[instruction]\n",
        "  rd = '{0:b}'.format(register_numbers[content[0]]).rjust(5,'0')\n",
        "  funct3 = instruction_funct3[instruction]\n",
        "  rs1 = '{0:b}'.format(register_numbers[content[1]]).rjust(5,'0')\n",
        "  rs2 = '{0:b}'.format(register_numbers[content[2]]).rjust(5,'0')\n",
        "  funct7 = funct3 = instruction_funct7[instruction]\n",
        "\n",
        "  code = funct7 + rs2 + rs1 + funct3 + rd + opcode\n",
        "  return hex(int(code, 2))\n",
        "\n",
        "def i_type(pc, instruction, content):\n",
        "  imm = '{0:b}'.format(int(content[2])).rjust(12,'0')\n",
        "\n",
        "  opcode = instruction_opcode[instruction]\n",
        "  rd = '{0:b}'.format(register_numbers[content[0]]).rjust(5,'0')\n",
        "  funct3 = instruction_funct3[instruction]\n",
        "  rs1 = '{0:b}'.format(register_numbers[content[1]]).rjust(5,'0')\n",
        "  imm11_0 = imm\n",
        "\n",
        "  code = imm11_0 + rs1 + funct3 + rd + opcode\n",
        "  return hex(int(code, 2))\n",
        "\n",
        "def s_type(pc, instruction, content):\n",
        "  imm = '{0:b}'.format(int(content[2])).rjust(12,'0')\n",
        "\n",
        "  opcode = instruction_opcode[instruction]\n",
        "  imm4_0 = imm[7:]\n",
        "  funct3 = instruction_funct3[instruction]\n",
        "  rs1 = '{0:b}'.format(register_numbers[content[0]]).rjust(5,'0')\n",
        "  rs2 = '{0:b}'.format(register_numbers[content[1]]).rjust(5,'0')\n",
        "  imm11_5 = imm[0:7]\n",
        "\n",
        "  code = imm11_5 + rs2 + rs1 + funct3 + imm4_0 + opcode\n",
        "  return hex(int(code, 2))\n",
        "\n",
        "def b_type(pc, instruction, content):\n",
        "  label = ''\n",
        "  if (content[2].isdigit()):\n",
        "    label = content[2]\n",
        "  else:\n",
        "    label = str(labels[content[2]] - pc)\n",
        "\n",
        "  imm = '{0:b}'.format(int(label)).rjust(12,'0')\n",
        "  \n",
        "  opcode = instruction_opcode[instruction]\n",
        "  imm11 = imm[1]\n",
        "  imm4_1 = imm[8:12]\n",
        "  funct3 = instruction_funct3[instruction]\n",
        "  rs1 = '{0:b}'.format(register_numbers[content[0]]).rjust(5,'0')\n",
        "  rs2 = '{0:b}'.format(register_numbers[content[1]]).rjust(5,'0')\n",
        "  imm10_5 = imm[2:8]\n",
        "  imm12 = imm[0]\n",
        "\n",
        "  code = imm12 + imm10_5 + rs2 + rs1 + funct3 + imm4_1 + imm11 + opcode\n",
        "  return hex(int(code, 2))\n",
        "\n",
        "def u_type(pc, instruction, content):\n",
        "  imm = '{0:b}'.format(int(content[2])).rjust(20,'0')\n",
        "\n",
        "  opcode = instruction_opcode[instruction]\n",
        "  rd = '{0:b}'.format(register_numbers[content[0]]).rjust(5,'0')\n",
        "  imm31_12 = '{0:b}'.format(int(content[2])).rjust(20,'0')\n",
        "\n",
        "  code = imm31_12 + rd + opcode\n",
        "  return hex(int(code, 2))\n",
        "\n",
        "def j_type(pc, instruction, content):\n",
        "  imm = '{0:b}'.format(int(content[2])).rjust(20,'0')\n",
        "\n",
        "  opcode = instruction_opcode[instruction]\n",
        "  rd = '{0:b}'.format(register_numbers[content[0]]).rjust(5,'0')\n",
        "  imm19_12 = imm[1:10]\n",
        "  imm11 = imm[10]\n",
        "  imm10_1 = imm[11:20]\n",
        "  imm20 = imm[0]\n",
        "\n",
        "  code = imm20 + imm10_1 + imm11 + imm19_12 + rd + opcode\n",
        "  return hex(int(code, 2))\n",
        "\n",
        "def assemble_one(normalized_line, pc):\n",
        "  instruction = normalized_line[0]\n",
        "  content = normalized_line[1]\n",
        "  content = tokenize(content)\n",
        "  if instruction_format[instruction] == 'R':\n",
        "      return r_type(pc, instruction, content)\n",
        "  elif instruction_format[instruction] == 'I':\n",
        "      return i_type(pc, instruction, content)\n",
        "  elif instruction_format[instruction] == 'S':\n",
        "      return s_type(pc, instruction, content)\n",
        "  elif instruction_format[instruction] == 'B':\n",
        "      return b_type(pc, instruction, content)\n",
        "  elif instruction_format[instruction] == 'U':\n",
        "      return u_type(pc, instruction, content)\n",
        "  elif instruction_format[instruction] == 'J':\n",
        "      return j_type(pc, instruction, content)\n",
        "\n",
        "def assemble(normalized_lines):\n",
        "  machine_codes  = []\n",
        "  for i in range(len(normalized_lines)):\n",
        "    machine_codes.append(assemble_one(normalized_lines[i], 4*i))\n",
        "  return machine_codes\n",
        "\n",
        "def read_file():\n",
        "  file_name = \"instructions.txt\"\n",
        "  f = open(file_name, \"r\")\n",
        "\n",
        "  lines = []\n",
        "  for line in f:\n",
        "    # line = line.lower()\n",
        "    line = line.strip('\\n')\n",
        "    line = line.rstrip(' ')\n",
        "    if len(line) > 0:\n",
        "      lines.append(line)\n",
        "  f.close()\n",
        "  return lines\n",
        "\n",
        "def join_labels(lines):\n",
        "  for i in range(1, len(lines)):\n",
        "    if(lines[i - 1].endswith(':')):\n",
        "      parts = lines[i - 1].split(':')\n",
        "      lines[i] = parts[0] + ': ' + lines[i]\n",
        "  return lines\n",
        "\n",
        "def remove_slabels(lines):\n",
        "  new_lines = []\n",
        "  for i in range(len(lines)):\n",
        "    if (not lines[i].endswith(':')):\n",
        "      new_lines.append(lines[i])\n",
        "  return new_lines\n",
        "\n",
        "def remove_labels(lines):\n",
        "  for i in range(len(lines)):\n",
        "    if (lines[i].find(':') != -1):\n",
        "      parts = lines[i].split(':')\n",
        "      lines[i] = parts[1].lstrip()\n",
        "  return lines\n",
        "\n",
        "def set_labels(lines):\n",
        "  for i in range(len(lines)):\n",
        "    parts = lines[i].split(':', 1)\n",
        "    if(len(parts) == 2):\n",
        "      labels[parts[0]] = 4*i\n",
        "\n",
        "def low_lines(lines):\n",
        "  new_lines = []\n",
        "  for line in lines:\n",
        "    line = line.lower()\n",
        "    new_lines.append(line)\n",
        "  return new_lines\n",
        "\n",
        "def assembler():\n",
        "  lines = read_file()\n",
        "  lines = join_labels(lines)\n",
        "  lines = remove_slabels(lines)\n",
        "  set_labels(lines)\n",
        "  lines = remove_labels(lines)\n",
        "  lines = low_lines(lines)\n",
        "  divided_lines = divide(lines)\n",
        "  normalized_lines = normalize(divided_lines)\n",
        "  machine_codes = assemble(normalized_lines)\n",
        "  return machine_codes\n",
        "\n",
        "machine_codes = assembler()\n",
        "print(machine_codes)"
      ]
    },
    {
      "cell_type": "markdown",
      "metadata": {
        "id": "ZnhSc7mS92zW"
      },
      "source": [
        "# Instalação de extensões"
      ]
    },
    {
      "cell_type": "code",
      "execution_count": 106,
      "metadata": {
        "colab": {
          "base_uri": "https://localhost:8080/"
        },
        "id": "r1pzW9K0kJs8",
        "outputId": "00199d45-d89c-4492-c7e6-0fdb4012a5e9"
      },
      "outputs": [
        {
          "output_type": "stream",
          "name": "stdout",
          "text": [
            "Looking in indexes: https://pypi.org/simple, https://us-python.pkg.dev/colab-wheels/public/simple/\n",
            "Collecting git+https://github.com/lesc-ufv/cad4u.git\n",
            "  Cloning https://github.com/lesc-ufv/cad4u.git to /tmp/pip-req-build-s9o_ssta\n",
            "  Running command git clone --filter=blob:none --quiet https://github.com/lesc-ufv/cad4u.git /tmp/pip-req-build-s9o_ssta\n",
            "  Resolved https://github.com/lesc-ufv/cad4u.git to commit f97233dc5a71cf8e39e824247d1ea3fc20d3dc3a\n",
            "  \u001b[1;31merror\u001b[0m: \u001b[1msubprocess-exited-with-error\u001b[0m\n",
            "  \n",
            "  \u001b[31m×\u001b[0m \u001b[32mpython setup.py egg_info\u001b[0m did not run successfully.\n",
            "  \u001b[31m│\u001b[0m exit code: \u001b[1;36m1\u001b[0m\n",
            "  \u001b[31m╰─>\u001b[0m See above for output.\n",
            "  \n",
            "  \u001b[1;35mnote\u001b[0m: This error originates from a subprocess, and is likely not a problem with pip.\n",
            "  Preparing metadata (setup.py) ... \u001b[?25l\u001b[?25herror\n",
            "\u001b[1;31merror\u001b[0m: \u001b[1mmetadata-generation-failed\u001b[0m\n",
            "\n",
            "\u001b[31m×\u001b[0m Encountered error while generating package metadata.\n",
            "\u001b[31m╰─>\u001b[0m See above for output.\n",
            "\n",
            "\u001b[1;35mnote\u001b[0m: This is an issue with the package mentioned above, not pip.\n",
            "\u001b[1;36mhint\u001b[0m: See above for details.\n",
            "fatal: destination path 'cad4u' already exists and is not an empty directory.\n",
            "The plugin extension is already loaded. To reload it, use:\n",
            "  %reload_ext plugin\n",
            "Extensions installed successfully!\n"
          ]
        }
      ],
      "source": [
        "!pip install git+https://github.com/lesc-ufv/cad4u.git\n",
        "!git clone https://github.com/lesc-ufv/cad4u\n",
        "%load_ext plugin\n",
        "!pip install gradio riscv-assembler &> /dev/null\n",
        "print(\"Extensions installed successfully!\")"
      ]
    },
    {
      "cell_type": "markdown",
      "metadata": {
        "id": "Ly4Wa76QJulM"
      },
      "source": [
        "## Programas Python"
      ]
    },
    {
      "cell_type": "code",
      "execution_count": 107,
      "metadata": {
        "id": "jo0OSyyqJtxF"
      },
      "outputs": [],
      "source": [
        "def print_memory_ascii():\n",
        "\tfile = open('mem.data')\n",
        "\n",
        "\tfor i in file:\n",
        "\t\tif i[0] != '/':\n",
        "\t\t\tbyte_array = bytearray.fromhex(i)\n",
        "\t\t\tinvert = byte_array.decode()\n",
        "\t\t\tsaida = invert[::-1]\n",
        "\t\t\tprint(saida+\" hex= \"+i)\n",
        "\n",
        "def print_regbank(format='dec'):\n",
        "\t### formas de exibir 'decimal', 'unsigned', 'hex'\n",
        "\t#form = \"decimal\"\n",
        "\tform = 'decimal'\n",
        "\n",
        "\tregBank = open('reg.data')\n",
        "\tvalues = []\n",
        "\n",
        "\n",
        "\tfor line in regBank:\n",
        "\t\tif line[0] != '/':\n",
        "\t\t\tvalues.append(line[0:8])\n",
        "\n",
        "\tregs = [\"zero(X0)\", \" ra (x1)\", \" sp (x2)\", \" gp (x3)\", \" tp (x4)\", \" t0 (x5)\", \" t1 (x6)\", \" t2 (x7)\",\n",
        "\t   \" s0 (x8)\",  \" s1 (x9)\", \"a0 (x10)\", \"a1 (x11)\", \"a2 (x12)\", \"a3 (x13)\", \"a4 (x14)\", \"a5 (x15)\",\n",
        "\t    \"a6 (x16)\",\"a7 (x17)\", \"s2 (x18)\", \"s3 (x19)\", \"s4 (x20)\", \"s5 (x21)\", \"s6 (x22)\", \"s7 (x23)\",\n",
        "\t     \"s8 (x24)\", \"s9 (x25)\", \"s10(x26)\", \"s11(x27)\", \"t3 (x28)\", \"t4 (x29)\", \"t5 (x30)\", \"t6 (x31)\"]\n",
        "\n",
        "\t# converte para binario\n",
        "\tif format == \"bin\":\n",
        "\t\tfor i in range(0,8):\n",
        "\t\t\tj = i+8\n",
        "\t\t\tk = i+16\n",
        "\t\t\tl = i+24\n",
        "\t\t\tprint(f\"{regs[i]}: {bin(int(values[i], 16))[2:].zfill(8)} | {regs[j]}: {bin(int(values[j], 16))[2:].zfill(8)} | {regs[k]}: {bin(int(values[k], 16))[2:].zfill(8)} | {regs[l]}: {bin(int(values[l], 16))[2:].zfill(8)} \")\n",
        "\n",
        "\telif format == 'hex': #hexadecimal\n",
        "\t\tfor i in range(0,8):\n",
        "\t\t\tj = i+8\n",
        "\t\t\tk = i+16\n",
        "\t\t\tl = i+24\n",
        "\t\t\tprint(f\"{regs[i]}: 0x{values[i]} | {regs[j]}: 0x{values[j]} | {regs[k]}: 0x{values[k]} | {regs[l]}: 0x{values[l]}\")\n",
        "\n",
        "\t# converte para decimal\n",
        "\telse:\n",
        "\t\tfor i in range(0,8):\n",
        "\t\t\tj = i+8\n",
        "\t\t\tk = i+16\n",
        "\t\t\tl = i+24\n",
        "\t\t\tprint(f\"{regs[i]}: {int(values[i], base=16):04d} | {regs[j]}: {int(values[j], base=16):04d} | {regs[k]}: {int(values[k], base=16):04d} | {regs[l]}: {int(values[l], base=16):04d} \")\n",
        "\n",
        "\n",
        "\n",
        "def regbank(format='dec'):\n",
        "\t### formas de exibir 'decimal', 'unsigned', 'hex'\n",
        "\t#form = \"decimal\"\n",
        "\tform = 'decimal'\n",
        "\n",
        "\tsreg = \"\"\n",
        "\tregBank = open('reg.data')\n",
        "\tvalues = []\n",
        "\n",
        "\n",
        "\tfor line in regBank:\n",
        "\t\tif line[0] != '/':\n",
        "\t\t\tvalues.append(line[0:8])\n",
        "\n",
        "\tregs = [\"zero (X0)\", \"ra (x1)\", \"sp (x2)\", \"gp (x3)\", \"tp (x4)\", \"t0 (x5)\", \"t1 (x6)\", \"t2 (x7)\",\n",
        "\t   \"s0 (x8)\",  \"s1 (x9)\", \"a0 (x10)\", \"a1 (x11)\", \"a2 (x12)\", \"a3 (x13)\", \"a4 (x14)\", \"a5 (x15)\",\n",
        "\t    \"a6 (x16)\",\"a7 (x17)\", \"s2 (x18)\", \"s3 (x19)\", \"s4 (x20)\", \"s5 (x21)\", \"s6 (x22)\", \"s7 (x23)\",\n",
        "\t     \"s8 (x24)\", \"s9 (x25)\", \"s10 (x26)\", \"s11 (x27)\", \"t3 (x28)\", \"t4 (x29)\", \"t5 (x30)\", \"t6 (x31)\"]\n",
        "\n",
        "\t# converte para binario\n",
        "\tif format == \"bin\":\n",
        "\t\tfor i in range(0,8):\n",
        "\t\t\tj = i+8\n",
        "\t\t\tk = i+16\n",
        "\t\t\tl = i+24\n",
        "\t\t\tsreg += f\"{regs[i]}: {bin(int(values[i], 16))[2:].zfill(8)} | {regs[j]}: {bin(int(values[j], 16))[2:].zfill(8)} | {regs[k]}: {bin(int(values[k], 16))[2:].zfill(8)} | {regs[l]}: {bin(int(values[l], 16))[2:].zfill(8)} \\n\"\n",
        "\n",
        "\telif format == 'hex': #hexadecimal\n",
        "\t\tfor i in range(0,8):\n",
        "\t\t\tj = i+8\n",
        "\t\t\tk = i+16\n",
        "\t\t\tl = i+24\n",
        "\t\t\tsreg += f\"{regs[i]}: 0x{values[i]} | {regs[j]}: 0x{values[j]} | {regs[k]}: 0x{values[k]} | {regs[l]}: 0x{values[l]} \\n\"\n",
        "\n",
        "\t# converte para decimal\n",
        "\telse:\n",
        "\t\tfor i in range(0,8):\n",
        "\t\t\tj = i+8\n",
        "\t\t\tk = i+16\n",
        "\t\t\tl = i+24\n",
        "\t\t\tsreg += f\"{regs[i]}: {int(values[i], base=16):04d} | {regs[j]}: {int(values[j], base=16):04d} | {regs[k]}: {int(values[k], base=16):04d} | {regs[l]}: {int(values[l], base=16):04d} \\n\"\n",
        "\t\n",
        "\treturn sreg"
      ]
    },
    {
      "cell_type": "code",
      "execution_count": 108,
      "metadata": {
        "colab": {
          "base_uri": "https://localhost:8080/"
        },
        "id": "-dIMXOzZiopP",
        "outputId": "3d461275-e927-49c4-e785-ba27ec6de1e0"
      },
      "outputs": [
        {
          "output_type": "stream",
          "name": "stdout",
          "text": [
            "\n"
          ]
        }
      ],
      "source": [
        "%%verilog\n",
        "module test(input i, output o);\n",
        "  assign o = i;\n",
        "endmodule"
      ]
    },
    {
      "cell_type": "markdown",
      "metadata": {
        "id": "IixGbTr2jC5A"
      },
      "source": [
        "# Implementação do Processador"
      ]
    },
    {
      "cell_type": "markdown",
      "metadata": {
        "id": "m7prYdSHEIB3"
      },
      "source": [
        "\n",
        "### Registrador Genérico"
      ]
    },
    {
      "cell_type": "code",
      "execution_count": 109,
      "metadata": {
        "colab": {
          "base_uri": "https://localhost:8080/"
        },
        "id": "kJMKqwdiEHLF",
        "outputId": "8b2d453a-7465-4b26-b1f6-aabea7df09b8"
      },
      "outputs": [
        {
          "output_type": "stream",
          "name": "stdout",
          "text": [
            "Overwriting regr.v\n"
          ]
        }
      ],
      "source": [
        "%%writefile regr.v\n",
        "module regr (input clk, input clear, input hold,\n",
        "\tinput wire [N-1:0] in,\n",
        "\toutput reg [N-1:0] out);\n",
        "\n",
        "\tparameter N = 1;\n",
        "\n",
        "\talways @(posedge clk) begin\n",
        "\t\tif (clear)\n",
        "\t\t\tout <= {N{1'b0}};\n",
        "\t\telse if (hold)\n",
        "\t\t\tout <= out;\n",
        "\t\telse\n",
        "\t\t\tout <= in;\n",
        "\tend\n",
        "endmodule"
      ]
    },
    {
      "cell_type": "markdown",
      "metadata": {
        "id": "Lqq2rEgO0Nmc"
      },
      "source": [
        "### Inicialização do valor dos registradores"
      ]
    },
    {
      "cell_type": "code",
      "execution_count": 110,
      "metadata": {
        "colab": {
          "base_uri": "https://localhost:8080/"
        },
        "id": "UqFGS3u10RnW",
        "outputId": "2738a0b2-3a7c-4f82-eb17-c3416d4ee443"
      },
      "outputs": [
        {
          "output_type": "stream",
          "name": "stdout",
          "text": [
            "Overwriting rm_data.txt\n"
          ]
        }
      ],
      "source": [
        "%%writefile rm_data.txt\n",
        "0\n",
        "ffffffff\n",
        "0\n",
        "0\n",
        "0\n",
        "0\n",
        "0\n",
        "0\n",
        "0\n",
        "0\n",
        "0\n",
        "0\n",
        "0\n",
        "0\n",
        "0\n",
        "0\n",
        "0\n",
        "0\n",
        "0\n",
        "0\n",
        "0\n",
        "0\n",
        "0\n",
        "0\n",
        "0\n",
        "0\n",
        "0\n",
        "0\n",
        "0\n",
        "0\n",
        "0\n",
        "0\n"
      ]
    },
    {
      "cell_type": "markdown",
      "metadata": {
        "id": "ueHC3K510hWF"
      },
      "source": [
        "### Inicialização dos valores da memória"
      ]
    },
    {
      "cell_type": "code",
      "execution_count": 111,
      "metadata": {
        "colab": {
          "base_uri": "https://localhost:8080/"
        },
        "id": "yA02-Pkd0hWH",
        "outputId": "571a48d3-9878-41c0-c6ad-0cc399d0f01e"
      },
      "outputs": [
        {
          "output_type": "stream",
          "name": "stdout",
          "text": [
            "Overwriting dm_data.txt\n"
          ]
        }
      ],
      "source": [
        "%%writefile dm_data.txt\n",
        "0\n",
        "0\n",
        "0\n",
        "0\n",
        "0\n",
        "0\n",
        "0\n",
        "0\n",
        "0\n",
        "0\n",
        "0\n",
        "0\n",
        "0\n",
        "0\n",
        "0\n",
        "0\n",
        "0\n",
        "0\n",
        "0\n",
        "0\n",
        "0\n",
        "0\n",
        "0\n",
        "0\n",
        "0\n",
        "0\n",
        "0\n",
        "0\n",
        "0\n",
        "0\n",
        "0\n",
        "0"
      ]
    },
    {
      "cell_type": "markdown",
      "metadata": {
        "id": "2Ph8mCTt6wL0"
      },
      "source": [
        "### Fetch Stage"
      ]
    },
    {
      "cell_type": "markdown",
      "metadata": {
        "id": "4iLL7ELLh93_"
      },
      "source": [
        "#### Fetch Unit"
      ]
    },
    {
      "cell_type": "code",
      "execution_count": 112,
      "metadata": {
        "colab": {
          "base_uri": "https://localhost:8080/"
        },
        "id": "VbfTNTr55lXg",
        "outputId": "42c1e7d2-70c9-4e7a-dcf7-b69d1ec29baf"
      },
      "outputs": [
        {
          "output_type": "stream",
          "name": "stdout",
          "text": [
            "Overwriting fetchunit.v\n"
          ]
        }
      ],
      "source": [
        "%%writefile fetchunit.v \n",
        "\n",
        "\t// {{{ flush control\n",
        "\treg flush_s1, flush_s2, flush_s3;\n",
        "\talways @(*) begin\n",
        "\t\tflush_s1 <= 1'b0;\n",
        "\t\tflush_s2 <= 1'b0;\n",
        "\t\tflush_s3 <= 1'b0;\n",
        "\t\tif (pcsrc | jump_s4) begin\n",
        "\t\t\tflush_s1 <= 1'b1;\n",
        "\t\t\tflush_s2 <= 1'b1;\n",
        "\t\t\tflush_s3 <= 1'b1;\n",
        "\t\tend\n",
        "\tend\n",
        "\t// }}}\n",
        "\n",
        "\treg  [31:0] pc;\n",
        "\tinitial begin\n",
        "\t\tpc <= 32'd0;\n",
        "\tend\n",
        "\n",
        "\twire [31:0] pc4;  // PC + 4\n",
        "\tassign pc4 = pc + 4;\n",
        "\n",
        "\talways @(posedge clk) \n",
        "   begin // update pc\n",
        "\t\tif (pcsrc)\t// changed here\n",
        "\t\t\tpc <= baddr_s4;\n",
        "\t\telse if (jump_s4)\n",
        "\t\t\tpc <= jaddr_s4;\n",
        "\t\telse if (stall_s1_s2) begin\n",
        "\t\t\tpc <= pc;\n",
        "\t\t\tstall <= stall + 1;\n",
        "\t\tend\n",
        "\t\telse\n",
        "\t\t\tpc <= pc4;\n",
        "  \tend\n",
        "\n",
        "\tparameter NMEM = 212;  // number in instruction memory\n",
        "\tparameter IM_DATA = \"im_data.txt\";\n",
        "\n",
        "// instruction memory\n",
        "\twire [31:0] inst;\n",
        "\twire [31:0] beq_imm_s1;\t// modified ** test **\n",
        "\tim #(.NMEM(NMEM), .IM_DATA(IM_DATA))\n",
        "\t\tim1(.clk(clk), .addr(pc), .data(inst), .imm(beq_imm_s1));"
      ]
    },
    {
      "cell_type": "markdown",
      "metadata": {
        "id": "IV58BdsjEW4g"
      },
      "source": [
        "#### Instruction Memory"
      ]
    },
    {
      "cell_type": "code",
      "execution_count": 113,
      "metadata": {
        "colab": {
          "base_uri": "https://localhost:8080/"
        },
        "id": "RZfR7Q5NETZf",
        "outputId": "967a6c70-1f19-44fd-a6df-7e2374a66c56"
      },
      "outputs": [
        {
          "output_type": "stream",
          "name": "stdout",
          "text": [
            "Overwriting im_reg.v\n"
          ]
        }
      ],
      "source": [
        "%%writefile im_reg.v\n",
        "module im(input wire\t\t\tclk,input wire \t[31:0] \taddr,output wire [31:0] \tdata, output wire [31:0] imm);\n",
        "\tparameter NMEM = 32;   // Number of memory entries,\n",
        "\t\t\t\t\t\t\t// not the same as the memory size\n",
        "\tparameter IM_DATA = \"im_data.txt\";  // file to read data from\n",
        "\treg [31:0] mem [0:255];  // 32-bit memory with 128 entries\n",
        "\tinitial begin\n",
        "\t\t$readmemh(IM_DATA, mem, 0, NMEM-1);\n",
        "\tend\n",
        "\tassign data = mem[addr[9:2]][31:0];\n",
        "\tassign imm = {{19{data[31]}},data[31],data[7],data[30:25],data[11:8],{1'b0}};\n",
        "endmodule"
      ]
    },
    {
      "cell_type": "markdown",
      "metadata": {
        "id": "soURSlCW4lFD"
      },
      "source": [
        "#### Pipeline Bar (Fetch -> Decode)"
      ]
    },
    {
      "cell_type": "code",
      "execution_count": 114,
      "metadata": {
        "colab": {
          "base_uri": "https://localhost:8080/"
        },
        "id": "-cu-BZSe6wic",
        "outputId": "07ca432d-e1c5-4c2f-8e9c-5bc405f41d19"
      },
      "outputs": [
        {
          "output_type": "stream",
          "name": "stdout",
          "text": [
            "Overwriting stage_bar_s2.v\n"
          ]
        }
      ],
      "source": [
        "%%writefile stage_bar_s2.v\n",
        "\twire [31:0] pc_s2;\n",
        "\tregr #(.N(32)) regr_pc_s2(.clk(clk),\n",
        "\t\t\t\t\t\t.hold(stall_s1_s2), .clear(flush_s1),\n",
        "\t\t\t\t\t\t.in(pc), .out(pc_s2));\n",
        "\n",
        "  wire [31:0] inst_s2;\n",
        "\n",
        "\tregr #(.N(32)) regr_im_s2(.clk(clk),\n",
        "\t\t\t\t\t\t.hold(stall_s1_s2), .clear(flush_s1),\n",
        "\t\t\t\t\t\t.in(inst), .out(inst_s2));"
      ]
    },
    {
      "cell_type": "markdown",
      "metadata": {
        "id": "Zzijkf5J6-vr"
      },
      "source": [
        "### Decode Stage"
      ]
    },
    {
      "cell_type": "markdown",
      "metadata": {
        "id": "Y-bab3dG7FaQ"
      },
      "source": [
        "#### Decode Unit"
      ]
    },
    {
      "cell_type": "code",
      "execution_count": 115,
      "metadata": {
        "colab": {
          "base_uri": "https://localhost:8080/"
        },
        "id": "ygkKczbBhPx-",
        "outputId": "7d0878e4-af8a-40c3-c6cd-e541e9ebca00"
      },
      "outputs": [
        {
          "output_type": "stream",
          "name": "stdout",
          "text": [
            "Overwriting regbank.v\n"
          ]
        }
      ],
      "source": [
        "%%writefile regbank.v\n",
        "module regm(\t\tinput wire\t\t\tclk,input wire  [4:0]\tread1, read2,\n",
        "\t\toutput wire [31:0]\tdata1, data2,input wire\t\t\tregwrite, input wire\t[4:0]\twrreg,input wire\t[31:0]\twrdata);\n",
        "\n",
        "\tparameter NMEM = 32;   // Number of memory entries,\n",
        "\t\t\t\t\t\t\t// not the same as the memory size\n",
        "\tparameter RM_DATA = \"/content/rm_data.txt\";  // file to read data from\n",
        "\n",
        "\treg [31:0] mem [0:31];  // 32-bit memory with 32 entries\n",
        "\n",
        "\tinitial begin\n",
        "\t\t$readmemh(RM_DATA, mem, 0, NMEM-1);\n",
        "\tend\n",
        "\treg [31:0] _data1, _data2;\n",
        "\talways @(*) begin\n",
        "\t\tif (read1 == 5'd0)\n",
        "\t\t\t_data1 = 32'd0;\n",
        "\t\telse if ((read1 == wrreg) && regwrite)\n",
        "\t\t\t_data1 = wrdata;\n",
        "\t\telse\n",
        "\t\t\t_data1 = mem[read1][31:0];\n",
        "\tend\n",
        "\n",
        "\talways @(*) begin\n",
        "\t\tif (read2 == 5'd0)\n",
        "\t\t\t_data2 = 32'd0;\n",
        "\t\telse if ((read2 == wrreg) && regwrite)\n",
        "\t\t\t_data2 = wrdata;\n",
        "\t\telse\n",
        "\t\t\t_data2 = mem[read2][31:0];\n",
        "\tend\n",
        "\n",
        "\tassign data1 = _data1;\n",
        "\tassign data2 = _data2;\n",
        "\n",
        "\talways @(posedge clk) begin\n",
        "\t\tif (regwrite && wrreg != 5'd0) begin\n",
        "\t\t\t// write a non $zero register\n",
        "\t\t\tmem[wrreg] <= wrdata;\n",
        "\t\tend\n",
        "\tend\n",
        "endmodule"
      ]
    },
    {
      "cell_type": "code",
      "execution_count": 116,
      "metadata": {
        "colab": {
          "base_uri": "https://localhost:8080/"
        },
        "id": "2_SbyEL_YBNn",
        "outputId": "2d387664-4532-458e-be90-eade69dcf6f1"
      },
      "outputs": [
        {
          "output_type": "stream",
          "name": "stdout",
          "text": [
            "Overwriting dependencehazard.v\n"
          ]
        }
      ],
      "source": [
        "%%writefile dependencehazard.v\n",
        "// {{{ dependence hazard detection, signal stall\n",
        "\n",
        "\t/* If an operation in stage 2 (DEC) writes in a register\n",
        "\t * (e.g. add) and depends on registers values that are\n",
        "\t * being calculated in stage 3 (EX) or stage 4 (MEM), a\n",
        "\t * stall must be performed. The operation in stage 2\n",
        "\t * cannot calculate until the dependences are ready to\n",
        "\t * be used.\n",
        "\t (alusrc== 1'b0 || memwrite == 1'b1) Use Rs2: Alu, Sw, Beq\n",
        "\t */\n",
        "\n",
        "\talways @(*) begin\n",
        "\t\tif (regwrite_s3 == 1'b1 && ((rs1 != 0 && rs1 == rd_s3) || \n",
        "\t\t((alusrc== 1'b0 || memwrite == 1'b1) && (rs2 != 0  && rs2 == rd_s3)))) begin\n",
        "\t\t\tstall_s1_s2 <= 1'b1;  // perform a stall\n",
        "\t\tend else if (regwrite_s4 == 1'b1 && ((rs1 != 0 && rs1 == wrreg_s4) || \n",
        "\t\t((alusrc== 1'b0 || memwrite == 1'b1) && (rs2 != 0 && rs2 == wrreg_s4)))) begin\n",
        "\t\t\tstall_s1_s2 <= 1'b1;  // perform a stall\n",
        "\t\tend else\n",
        "\t\t\tstall_s1_s2 <= 1'b0;  // no stall\n",
        "\tend\n",
        "\t// }}}\n"
      ]
    },
    {
      "cell_type": "code",
      "execution_count": 117,
      "metadata": {
        "colab": {
          "base_uri": "https://localhost:8080/"
        },
        "id": "YaZ5LhBPDDjn",
        "outputId": "3600353a-8f41-4512-aaed-87d6b3e28b09"
      },
      "outputs": [
        {
          "output_type": "stream",
          "name": "stdout",
          "text": [
            "Overwriting decodefields.v\n"
          ]
        }
      ],
      "source": [
        "%%writefile decodefields.v\n",
        "\n",
        "\n",
        "wire [6:0]  opcoderv; \n",
        "// debug instruction pipeline\n",
        "wire [6:0]  opcoderv_s3;\n",
        "\t\n",
        "\n",
        "    wire [4:0]  rs1;\n",
        "     wire [4:0]  rs2;\n",
        "\twire [4:0]  rd;\n",
        "                      wire [6:0] func7; wire [2:0] func3;\n",
        "\twire [15:0] imm;\n",
        "\twire [4:0]  shamt;\n",
        "\twire [31:0] jaddr_s2;\n",
        "\twire [31:0] seimm;  // sign extended immediate\n",
        "\t//\n",
        " assign opcoderv   = inst_s2[6:0]; \n",
        "\t  assign rs2       = inst_s2[24:20];\n",
        " assign rs1       = inst_s2[19:15];\n",
        "\tassign rd       = inst_s2[11:7];\n",
        "                                      assign func7       = inst_s2[31:25];\n",
        "                                      assign func3       = inst_s2[14:12];\n",
        "\tassign imm      = inst_s2[15:0];\n",
        "\tassign shamt    = inst_s2[10:6];\n",
        "\tassign jaddr_s2 = pc_s2 + ImmGen;\n",
        "\tassign seimm \t= {{16{inst_s2[15]}}, inst_s2[15:0]};\n",
        "\n",
        "  // register file\n",
        "\twire [31:0] data1, data2;\n",
        "\tregm regm1(.clk(clk), .read1(rs1), .read2(rs2),\n",
        "\t\t\t.data1(data1), .data2(data2),\n",
        "\t\t\t.regwrite(regwrite_s5), .wrreg(wrreg_s5),\n",
        "\t\t\t.wrdata(wrdata_s5));\n",
        "\n",
        "      // control (opcode -> ...)\n",
        "\twire\t\tregdst;\n",
        "\twire\t\tbranch_eq_s2;\n",
        "\twire\t\tmemread;\n",
        "\twire\t\tmemwrite;\n",
        "\twire\t\tmemtoreg;\n",
        "\twire [1:0]\taluop;\n",
        "\twire\t\tregwrite;\n",
        "\twire\t\talusrc;\n",
        "\twire\t\tjump_s2;\n",
        "  wire [31:0] ImmGen;  // RISCV\n",
        "\t//\n",
        "  //agora passa blt para o control\n",
        "\t// updated ** adding useRs2 **\n",
        "\tcontrol ctl1(.opcode(opcoderv),\n",
        "\t\t\t\t.branch_eq(branch_eq_s2), \n",
        "\t\t\t\t.memread(memread),\n",
        "\t\t\t\t.memtoreg(memtoreg), .aluop(aluop),\n",
        "\t\t\t\t.memwrite(memwrite), .alusrc(alusrc),\n",
        "\t\t\t\t.regwrite(regwrite), .jump(jump_s2), .ImmGen(ImmGen), .inst(inst_s2));\n",
        "\n",
        "  \t// pass rs to stage 3 (for forwarding)\n",
        "\twire [4:0] rs_s3;     \twire [4:0] rs1_s3;\n",
        "\t\n",
        "\t// transfer seimm, rs1,rs2, and rd to stage 3\n",
        "\twire [31:0] seimm_s3;\n",
        "   wire [4:0] rs2_s3;\n",
        "\twire [4:0] \trd_s3;\n",
        "\n",
        "  // shift left, seimm\n",
        "\twire [31:0] seimm_sl2;\n",
        "\tassign seimm_sl2 = {seimm[29:0], 2'b0};  // shift left 2 bits\n",
        "\t// branch address\n",
        "\twire [31:0] baddr_s2;\n",
        "\tassign baddr_s2 = pc_s2 + ImmGen;\n",
        "\n",
        "// modified ** update ALU Control **\n",
        "  wire [4:0] func_s3;"
      ]
    },
    {
      "cell_type": "markdown",
      "metadata": {
        "id": "YXqDKayiFLke"
      },
      "source": [
        "#### Control Unit\n",
        "\n",
        "Update Opcode and control signals"
      ]
    },
    {
      "cell_type": "code",
      "execution_count": 118,
      "metadata": {
        "colab": {
          "base_uri": "https://localhost:8080/"
        },
        "id": "_pRDyV5AFKXe",
        "outputId": "54b5d761-22d6-4660-cff9-e36b45ad3ce6"
      },
      "outputs": [
        {
          "output_type": "stream",
          "name": "stdout",
          "text": [
            "Overwriting control.v\n"
          ]
        }
      ],
      "source": [
        "%%writefile control.v\n",
        "module control(\n",
        "\t\tinput  wire\t[6:0]\topcode,\n",
        "\t\toutput reg\t\t\tbranch_eq,\n",
        "\t\toutput reg [1:0]\taluop,\n",
        "\t\toutput reg\t\t\tmemread, memwrite, memtoreg,\n",
        "\t\toutput reg\t\t regwrite, alusrc,\n",
        "\t\toutput reg\t\t\tjump,\n",
        "    output reg [31:0] ImmGen,\n",
        "    input [31:0] inst);\n",
        "    wire[2:0] f3 = inst[14:12]; //funct3 para diferenciar as instruções de branch\n",
        "\talways @(*) begin\n",
        "\t\t/* defaults */\n",
        "\t\taluop[1:0]\t<= 2'd0;\n",
        "\t\talusrc\t\t<= 1'b0;\n",
        "\t\tbranch_eq\t<= 1'b0;\n",
        "\t\tmemread\t\t<= 1'b0;\n",
        "\t\tmemtoreg\t<= 1'b0;\n",
        "\t\tmemwrite\t<= 1'b0;\n",
        "\t\tregwrite\t<= 1'b0;\n",
        "\t\tjump\t\t<= 1'b0;\n",
        "\n",
        "\t\tcase (opcode)\n",
        "     7'b0000011: begin // lw == 3\n",
        "        \talusrc   <= 1'b1;\n",
        "          aluop[1:0]\t<= 2'd0;\n",
        "        \tmemtoreg <= 1'b1;                 \n",
        "        \tregwrite <= 1'b1;    \n",
        "        \tmemread  <= 1'b1;\n",
        "        \tImmGen   <= {{20{inst[31]}},inst[31:20]};\n",
        "      \tend\n",
        "\t\t\t7'b0010011: begin\t/* addi */\n",
        "\t\t\t\taluop <= 2'd3;\n",
        "\t\t\t\talusrc   <= 1'b1;\n",
        "\t\t\t\tregwrite <= 1'b1; \n",
        "        ImmGen   <= {{20{inst[31]}},inst[31:20]};\n",
        "\t\t\tend\n",
        "\t\t\t7'b0100011: begin\t/* sw */\n",
        "\t\t\t\tmemwrite <= 1'b1;\n",
        "\t\t\t\taluop <= 2'd0;\n",
        "\t\t\t\talusrc   <= 1'b1;\n",
        "        ImmGen   <= {{20{inst[31]}},inst[31:25],inst[11:7]};\n",
        "\t\t\tend\n",
        "\t\t\t7'b0110011: begin\t/* add */\n",
        "        aluop <= 2'd2;\n",
        "\t\t\t\tregwrite <= 1'b1; \n",
        "\t\t\tend\n",
        "\t\t\t7'b1101111: begin\t/* j jump */\n",
        "\t\t\t\tjump <= 1'b1;\n",
        "\t\t\t\tImmGen   <= {{12{inst[31]}},inst[19:12],inst[20],inst[30:21],{1'b0}};\n",
        "\t\t\tend\n",
        "\t\tendcase\n",
        "\tend\n",
        "endmodule"
      ]
    },
    {
      "cell_type": "markdown",
      "metadata": {
        "id": "HeIjbfc-7Hm5"
      },
      "source": [
        "#### Pipeline Bar (Decode -> Exec)"
      ]
    },
    {
      "cell_type": "code",
      "execution_count": 119,
      "metadata": {
        "colab": {
          "base_uri": "https://localhost:8080/"
        },
        "id": "oxvHdLhVfR1P",
        "outputId": "94ce55b2-cced-4753-8d1c-36307fc916f1"
      },
      "outputs": [
        {
          "output_type": "stream",
          "name": "stdout",
          "text": [
            "Overwriting pipelineDecExec_s2.v\n"
          ]
        }
      ],
      "source": [
        "%%writefile pipelineDecExec_s2.v\n",
        "// transfer register data to stage 3\n",
        "\n",
        "\t// transfer the control signals to stage 3\n",
        "\twire\t\tregdst_s3;\n",
        "\twire\t\tmemread_s3;\n",
        "\twire\t\tmemwrite_s3;\n",
        "\twire\t\tmemtoreg_s3;\n",
        "\twire [1:0]\taluop_s3;\n",
        "\twire\t\tregwrite_s3;\n",
        "\twire\t\talusrc_s3;\n",
        "\n",
        "\twire jump_s3;\n",
        "\tregr #(.N(1)) reg_jump_s3(.clk(clk), .clear(stall_s1_s2 || flush_s2), .hold(1'b0),\n",
        "\t\t\t\t.in(jump_s2),\n",
        "\t\t\t\t.out(jump_s3));\n",
        "\n",
        "\twire [31:0] jaddr_s3;\n",
        "\tregr #(.N(32)) reg_jaddr_s3(.clk(clk), .clear(stall_s1_s2 || flush_s2), .hold(1'b0),\n",
        "\t\t\t\t.in(jaddr_s2), .out(jaddr_s3));\n",
        "\t// }}}\n",
        "\n",
        "\tregr #(.N(32)) reg_s2_seimm(.clk(clk), .clear(stall_s1_s2 || flush_s2), .hold(1'b0),\n",
        "\t\t\t\t\t\t.in(ImmGen), .out(seimm_s3));  // RISCV\n",
        "\tregr #(.N(10)) reg_s2_rt_rd(.clk(clk), .clear(stall_s1_s2 || flush_s2), .hold(1'b0),\n",
        "\t\t\t\t\t\t.in({rs2, rd}), .out({rs2_s3, rd_s3}));\n",
        "  regr #(.N(5)) regr_s2_rs(.clk(clk), .clear(stall_s1_s2 || flush_s2), .hold(1'b0),\n",
        "\t\t\t\t.in(rs1), .out(rs1_s3));\n",
        "\n",
        " regr #(.N(5)) func7_3_s2(.clk(clk), .clear(stall_s1_s2 || flush_s2), .hold(1'b0),\n",
        "\t\t\t\t\t\t.in({func7[5],func3}), .out(func_s3));  \n",
        "\n",
        "\twire [31:0]\tdata1_s3, data2_s3;\n",
        "\tregr #(.N(64)) reg_s2_mem(.clk(clk), .clear(stall_s1_s2 || flush_s2), .hold(1'b0),\n",
        "\t\t\t\t.in({data1, data2}),\n",
        "\t\t\t\t.out({data1_s3, data2_s3}));\n",
        "\n",
        "\n",
        "\t// transfer PC + 4 to stage 3 - REMOVE LATER ???\n",
        "\twire [31:0] pc_s3;\n",
        "\tregr #(.N(32)) reg_pc_s2(.clk(clk), .clear(stall_s1_s2 || flush_s2), .hold(1'b0),\n",
        "\t\t\t\t\t\t.in(pc_s2), .out(pc_s3));\n",
        "\n",
        "\n",
        "        // A bubble is inserted by setting all the control signals\n",
        "\t// to zero (stall_s1_s2).\n",
        "\tregr #(.N(8)) reg_s2_control(.clk(clk), .clear(stall_s1_s2 || flush_s2), .hold(1'b0),\n",
        "\t\t\t.in({regdst, memread, memwrite,\n",
        "\t\t\t\t\tmemtoreg, aluop, regwrite, alusrc}),\n",
        "\t\t\t.out({regdst_s3, memread_s3, memwrite_s3,\n",
        "\t\t\t\t\tmemtoreg_s3, aluop_s3, regwrite_s3, alusrc_s3}));\n",
        "\n",
        "\twire branch_eq_s3, branch_ne_s3, branch_lt_s3, branch_ge_s3;\n",
        "\tregr #(.N(1)) branch_s2_s3(.clk(clk), .clear(stall_s1_s2 || flush_s2), .hold(1'b0),\n",
        "\t\t\t\t.in({branch_eq_s2}),\n",
        "\t\t\t\t.out({branch_eq_s3}));\n",
        "\n",
        "wire [31:0] baddr_s3;\n",
        "regr #(.N(32)) baddr_s2_s3(.clk(clk), .clear(stall_s1_s2 || flush_s2), .hold(1'b0),\n",
        "\t\t\t\t.in(baddr_s2), .out(baddr_s3));"
      ]
    },
    {
      "cell_type": "markdown",
      "metadata": {
        "id": "qeCLDfHh7eaE"
      },
      "source": [
        "### Exec Stage"
      ]
    },
    {
      "cell_type": "markdown",
      "metadata": {
        "id": "n-kjYcXLE2-X"
      },
      "source": [
        "#### ALU Control and ALU\n",
        "\n",
        "Update funct3 and funct7 logic, new instructions."
      ]
    },
    {
      "cell_type": "code",
      "execution_count": 120,
      "metadata": {
        "colab": {
          "base_uri": "https://localhost:8080/"
        },
        "id": "rLVvqy4FE2Bl",
        "outputId": "db81d855-c220-430d-e6f5-c909ee56fdde"
      },
      "outputs": [
        {
          "output_type": "stream",
          "name": "stdout",
          "text": [
            "Overwriting alu.v\n"
          ]
        }
      ],
      "source": [
        "%%writefile alu.v\n",
        "module alu(\n",
        "\t\tinput\t\t[3:0]\tctl,\n",
        "\t\tinput\t\t[31:0]\ta, b,\n",
        "\t\toutput reg\t[31:0]\tout);\n",
        "\n",
        "\twire [31:0] sub_ab;\n",
        "\twire [31:0] add_ab;\n",
        "\twire \t\toflow_add;\n",
        "\twire \t\toflow_sub;\n",
        "\twire \t\toflow;\n",
        "\twire \t\tslt;\n",
        "\n",
        "\n",
        "\tassign sub_ab = a - b;\n",
        "\tassign add_ab = a + b;\n",
        "\tassign oflow_add = (a[31] == b[31] && add_ab[31] != a[31]) ? 1 : 0;\n",
        "\tassign oflow_sub = (a[31] == b[31] && sub_ab[31] != a[31]) ? 1 : 0;\n",
        "\tassign oflow = (ctl == 4'b0010) ? oflow_add : oflow_sub;\n",
        "\t// set if less than, 2s compliment 32-bit numbers\n",
        "\tassign slt = oflow_sub ? ~(a[31]) : a[31];\n",
        "\talways @(*) begin\n",
        "\t\tcase (ctl)\n",
        "\t\t\t4'd2:  out <= add_ab;\t\t\t\t/* add */\n",
        "\t\t\t4'd0:  out <= a & b;\t\t\t\t/* and */\n",
        "\t\t\t4'd12: out <= ~(a | b);\t\t\t\t/* nor */\n",
        "\t\t\t4'd1:  out <= a | b;\t\t\t\t/* or */\n",
        "\t\t\t4'd7:  out <= {{31{1'b0}}, slt};\t/* slt */\n",
        "\t\t\t4'd6:  out <= sub_ab;\t\t\t\t/* sub */\n",
        "\t\t\t4'd13: out <= a ^ b;\t\t\t\t/* xor */\n",
        "\t\t\t4'd5: out <= a << b[4:0];  /* sll */\n",
        "\t\t\t4'd8: out <= a >> b[4:0];       /* srl */\n",
        "\n",
        "\t\t\tdefault: out <= 0;\n",
        "\t\tendcase\n",
        "\tend\n",
        "\n",
        "endmodule\n",
        "\n",
        "module alu_control(\n",
        "\t\tinput wire [3:0] funct,\n",
        "\t\tinput wire [1:0] aluop,\n",
        "\t\toutput reg [3:0] aluctl);\n",
        "\n",
        "\treg [3:0] _funct;\n",
        "\treg [3:0] _functi;\n",
        "\t\n",
        "\n",
        "\n",
        "\talways @(*) begin\n",
        "\t\tcase(funct[3:0])\n",
        "\t\t\t4'd0:  _funct = 4'd2;\t/* add */\n",
        "\t\t\t4'd8:  _funct = 4'd6;\t/* sub */\n",
        "\t\t\t4'd6:  _funct = 4'd1;\t/* or */\n",
        "\t\t\t4'd4:  _funct = 4'd13;\t/* xor */\n",
        "\t\t\t4'd2:  _funct = 4'd7;\t/* slt */\n",
        "\t\t\t4'd7:  _funct = 4'd0;\t/* and */\n",
        "\t\t\t4'd1: _funct = 4'd5;  /* sll */\n",
        "\t\t\t4'd5: _funct = 4'd8;  /* srl */\n",
        "\t\t\tdefault: _funct = 4'd0;\n",
        "\t\tendcase\n",
        "\tend\n",
        "\n",
        "always @(*) begin\n",
        "\t\tcase(funct[2:0])\n",
        "\t\t\t3'd0:  _functi = 4'd2;\t/* add */\n",
        "\t\t\t3'd6:  _functi = 4'd1;\t/* or */\n",
        "\t\t\t3'd4:  _functi = 4'd13;\t/* xor */\n",
        "\t\t\t3'd2:  _functi = 4'd7;\t/* slt */\n",
        "\t\t\t3'd1: _functi = 4'd5;  /* sll */\n",
        "\t\t\t3'd5: _functi = 4'd8;  /* srl */\n",
        "\t\t\tdefault: _functi = 4'd0;\n",
        "\t\tendcase\n",
        "\tend\n",
        "\n",
        "\n",
        "\talways @(*) begin\n",
        "\t\tcase(aluop)\n",
        "\t\t\t2'd0: aluctl = 4'd2;\t/* add */\n",
        "\t\t\t2'd1: aluctl = 4'd6;\t/* sub */\n",
        "\t\t\t2'd2: aluctl = _funct;\n",
        "\t\t\t2'd3: aluctl = _functi;\n",
        "\t\t\tdefault: aluctl = 0;\n",
        "\t\tendcase\n",
        "\tend\n",
        "\n",
        "endmodule"
      ]
    },
    {
      "cell_type": "markdown",
      "metadata": {
        "id": "JVRnMSj8C6gs"
      },
      "source": [
        "#### Exec Code (part)"
      ]
    },
    {
      "cell_type": "code",
      "execution_count": 121,
      "metadata": {
        "colab": {
          "base_uri": "https://localhost:8080/"
        },
        "id": "rbqphKCGUSk4",
        "outputId": "1f02082d-de2a-4f4f-f6e2-9f6691fc69ed"
      },
      "outputs": [
        {
          "output_type": "stream",
          "name": "stdout",
          "text": [
            "Overwriting execution_newcode.v\n"
          ]
        }
      ],
      "source": [
        "%%writefile execution_newcode.v\n",
        "// ALU\n",
        "\t// second ALU input can come from an immediate value or data\n",
        "\twire [31:0] alusrc_data2;\n",
        "\tassign alusrc_data2 = (alusrc_s3) ? seimm_s3 : data2_s3;\n",
        "\n",
        "\t// ALU control\n",
        "\twire [3:0] aluctl;\n",
        "\twire [5:0] funct;\n",
        "\tassign funct = seimm_s3[5:0];\n",
        "\talu_control alu_ctl1(.funct(func_s3), .aluop(aluop_s3), .aluctl(aluctl));\n",
        "\t// ALU\n",
        "\twire [31:0]\talurslt;\n",
        "  wire zero_s3;\n",
        "\n",
        "\talu alu1(.ctl(aluctl), .a(data1_s3), .b(alusrc_data2), .out(alurslt));\n",
        "  \n",
        "\tassign zero_s3 =  (func_s3[2:0] == 3'b000) ? alurslt == 0 \n",
        "\t\t\t\t: (func_s3[2:0] == 3'b001) ? ~(alurslt == 0)\n",
        "\t\t\t\t: (func_s3[2:0] == 3'b100) ? alurslt[31]\n",
        "\t\t\t\t: (func_s3[2:0] == 3'b101) ? (~alurslt[31])\n",
        "\t\t\t\t: (func_s3[2:0] == 3'b110) ? ~(data1_s3[31:0] < alusrc_data2[31:0])\n",
        "\t\t\t\t: (func_s3[2:0] == 3'b111) ? (data1_s3[31:0] < alusrc_data2[31:0]) : 1'b0;\n",
        "\n",
        "                  \t// write register\n",
        "\twire [4:0]\twrreg;\n",
        "\twire [4:0]\twrreg_s4;\n",
        "\tassign wrreg =  rd_s3;"
      ]
    },
    {
      "cell_type": "markdown",
      "metadata": {
        "id": "Q1uiS4-o7jr4"
      },
      "source": [
        "#### Pipeline Bar (Exec -> Memory)"
      ]
    },
    {
      "cell_type": "code",
      "execution_count": 122,
      "metadata": {
        "colab": {
          "base_uri": "https://localhost:8080/"
        },
        "id": "Oe9YPIB9jba5",
        "outputId": "d0f74234-1ee1-45f5-f1de-30d70434f2de"
      },
      "outputs": [
        {
          "output_type": "stream",
          "name": "stdout",
          "text": [
            "Overwriting pipelineExeMem.v\n"
          ]
        }
      ],
      "source": [
        "%%writefile pipelineExeMem.v\n",
        "\n",
        "// pass through some control signals to stage 4\n",
        "\twire regwrite_s4;\n",
        "\twire memtoreg_s4;\n",
        "\twire memread_s4;\n",
        "\twire memwrite_s4;\n",
        "\tregr #(.N(4)) reg_s3(.clk(clk), .clear(flush_s2), .hold(1'b0),\n",
        "\t\t\t\t.in({regwrite_s3, memtoreg_s3, memread_s3,\n",
        "\t\t\t\t\t\tmemwrite_s3}),\n",
        "\t\t\t\t.out({regwrite_s4, memtoreg_s4, memread_s4,\n",
        "\t\t\t\t\t\tmemwrite_s4}));\n",
        "\n",
        "            wire zero_s4;\n",
        "\tregr #(.N(1)) reg_zero_s3_s4(.clk(clk), .clear(1'b0), .hold(1'b0),\n",
        "\t\t\t\t\t.in(zero_s3), .out(zero_s4));\n",
        "\n",
        "\t// pass ALU result and zero to stage 4\n",
        "\twire [31:0]\talurslt_s4;\n",
        "\tregr #(.N(32)) reg_alurslt(.clk(clk), .clear(flush_s3), .hold(1'b0),\n",
        "\t\t\t\t.in({alurslt}),\n",
        "\t\t\t\t.out({alurslt_s4}));\n",
        "\n",
        "        \t// pass data2 to stage 4\n",
        "\twire [31:0] data2_s4;\n",
        "\t\n",
        "\t// modified ** removing forward **\n",
        " \t// REMOVED: reg [31:0] fw_data2_s3;\n",
        "\tregr #(.N(32)) reg_data2_s3(.clk(clk), .clear(flush_s3), .hold(1'b0),\n",
        "\t\t\t\t.in(data2_s3), .out(data2_s4));\n",
        "\n",
        "\n",
        "\t// pass to stage 4\n",
        "\tregr #(.N(5)) reg_wrreg(.clk(clk), .clear(flush_s3), .hold(1'b0),\n",
        "\t\t\t\t.in(wrreg), .out(wrreg_s4));\n",
        "\n",
        "\twire branch_eq_s4;\n",
        "\tregr #(.N(1)) branch_s3_s4(.clk(clk), .clear(flush_s3), .hold(1'b0),\n",
        "\t\t\t\t.in({branch_eq_s3}),\n",
        "\t\t\t\t.out({branch_eq_s4}));\n",
        "\n",
        "\twire [31:0] baddr_s4;\n",
        "\tregr #(.N(32)) baddr_s3_s4(.clk(clk), .clear(flush_s3), .hold(1'b0),\n",
        "\t\t\t\t.in(baddr_s3), .out(baddr_s4));\n",
        "\n",
        "\twire jump_s4;\n",
        "\tregr #(.N(1)) reg_jump_s4(.clk(clk), .clear(flush_s3), .hold(1'b0),\n",
        "\t\t\t\t.in(jump_s3),\n",
        "\t\t\t\t.out(jump_s4));\n",
        "\n",
        "\twire [31:0] jaddr_s4;\n",
        "\tregr #(.N(32)) reg_jaddr_s4(.clk(clk), .clear(flush_s3), .hold(1'b0),\n",
        "\t\t\t\t.in(jaddr_s3), .out(jaddr_s4));\n",
        "\t// }}}"
      ]
    },
    {
      "cell_type": "markdown",
      "metadata": {
        "id": "Wob9Hlge7nzr"
      },
      "source": [
        "### Memory Stage"
      ]
    },
    {
      "cell_type": "markdown",
      "metadata": {
        "id": "ElXz175AFYrE"
      },
      "source": [
        "#### Data Memory"
      ]
    },
    {
      "cell_type": "code",
      "execution_count": 123,
      "metadata": {
        "colab": {
          "base_uri": "https://localhost:8080/"
        },
        "id": "IMxGSxB3FYCT",
        "outputId": "6afb43e6-0b24-4240-960b-2e1af55b4288"
      },
      "outputs": [
        {
          "output_type": "stream",
          "name": "stdout",
          "text": [
            "Overwriting datam.v\n"
          ]
        }
      ],
      "source": [
        "%%writefile datam.v\n",
        "wire [31:0] rdata;\n",
        "dm dm1(.clk(clk), .addr(alurslt_s4[8:2]), .rd(memread_s4), .wr(memwrite_s4),\n",
        "\t\t\t.wdata(data2_s4), .rdata(rdata));\n",
        "\n",
        "\t\t\t\t// branch\n",
        "\twire pcsrc;\n",
        "\tassign pcsrc = branch_eq_s4 & zero_s4;\n",
        "\n",
        "/*\n",
        "\talways @(posedge clk) \n",
        "\tbegin\n",
        "\t  if (memread_s4 == 1'b1) $display(\"load in cycle %d address %d\",clock_counter,alurslt_s4);\n",
        "\tend\n",
        "*/\t "
      ]
    },
    {
      "cell_type": "code",
      "execution_count": 124,
      "metadata": {
        "colab": {
          "base_uri": "https://localhost:8080/"
        },
        "id": "SUbQcBwd98ov",
        "outputId": "3762c6ed-5716-4967-ff93-aaca059d364d"
      },
      "outputs": [
        {
          "output_type": "stream",
          "name": "stdout",
          "text": [
            "Overwriting Datamodule.v\n"
          ]
        }
      ],
      "source": [
        "%%writefile Datamodule.v\n",
        "module dm(\n",
        "\t\tinput wire\t\t\tclk,\n",
        "\t\tinput wire\t[6:0]\taddr,\n",
        "\t\tinput wire\t\t\trd, wr,\n",
        "\t\tinput wire \t[31:0]\twdata,\n",
        "\t\toutput wire\t[31:0]\trdata);\n",
        "\tparameter NMEM = 32;   // Number of memory entries,\n",
        "\t\t\t\t\t\t\t// not the same as the memory size\n",
        "\tparameter RM_DATA = \"dm_data.txt\";  // file to read data from\n",
        "\n",
        "\treg [31:0] mem [0:127];  // 32-bit memory with 128 entries\n",
        "\n",
        "        initial begin\n",
        "\t\t$readmemh(RM_DATA, mem, 0, NMEM-1);\n",
        "\tend\n",
        "\t\t\n",
        "\n",
        "\talways @(posedge clk) begin\n",
        "\t\tif (wr) begin\n",
        "\t\t\tmem[addr] <= wdata;\n",
        "\t\tend\n",
        "\tend\n",
        "\n",
        "\tassign rdata = wr ? wdata : mem[addr];\n",
        "\t// During a write, avoid the one cycle delay by reading from 'wdata'\n",
        "\n",
        "endmodule\n"
      ]
    },
    {
      "cell_type": "markdown",
      "metadata": {
        "id": "lDUID5Xo7scs"
      },
      "source": [
        "#### Pipeline Bar (Memory -> Writeback)"
      ]
    },
    {
      "cell_type": "code",
      "execution_count": 125,
      "metadata": {
        "colab": {
          "base_uri": "https://localhost:8080/"
        },
        "id": "WclyeU5v1A7I",
        "outputId": "4e4e0317-6fd2-4234-ee65-b60ef29f88cd"
      },
      "outputs": [
        {
          "output_type": "stream",
          "name": "stdout",
          "text": [
            "Overwriting pipelineMemWB.v\n"
          ]
        }
      ],
      "source": [
        "%%writefile pipelineMemWB.v\n",
        "// {{{ stage 4, MEM (memory)\n",
        "\n",
        "\t// pass regwrite and memtoreg to stage 5\n",
        "\twire memtoreg_s5;\n",
        "\tregr #(.N(2)) reg_regwrite_s4(.clk(clk), .clear(1'b0), .hold(1'b0),\n",
        "\t\t\t\t.in({regwrite_s4, memtoreg_s4}),\n",
        "\t\t\t\t.out({regwrite_s5, memtoreg_s5}));\n",
        "\n",
        "\t// pass alurslt to stage 5\n",
        "\twire [31:0] alurslt_s5;\n",
        "\tregr #(.N(32)) reg_alurslt_s4(.clk(clk), .clear(1'b0), .hold(1'b0),\n",
        "\t\t\t\t.in(alurslt_s4),\n",
        "\t\t\t\t.out(alurslt_s5));\n",
        "\n",
        "\t// pass wrreg to stage 5\n",
        "\tregr #(.N(5)) reg_wrreg_s4(.clk(clk), .clear(1'b0), .hold(1'b0),\n",
        "\t\t\t\t.in(wrreg_s4),\n",
        "\t\t\t\t.out(wrreg_s5));\n",
        "\n",
        "        \t// pass read data to stage 5\n",
        "\twire [31:0] rdata_s5;\n",
        "\tregr #(.N(32)) reg_rdata_s4(.clk(clk), .clear(1'b0), .hold(1'b0),\n",
        "\t\t\t\t.in(rdata),\n",
        "\t\t\t\t.out(rdata_s5));"
      ]
    },
    {
      "cell_type": "markdown",
      "metadata": {
        "id": "NxVy3jf-7ws9"
      },
      "source": [
        "### Writeback Stage"
      ]
    },
    {
      "cell_type": "code",
      "execution_count": 126,
      "metadata": {
        "colab": {
          "base_uri": "https://localhost:8080/"
        },
        "id": "kqcDVhbG1ALQ",
        "outputId": "267f722c-d55f-4c85-fae1-c76bcdc1b52f"
      },
      "outputs": [
        {
          "output_type": "stream",
          "name": "stdout",
          "text": [
            "Overwriting writeback.v\n"
          ]
        }
      ],
      "source": [
        "%%writefile writeback.v\n",
        "// }}}\n",
        "\t\t\t\n",
        "\t// {{{ stage 5, WB (write back)\n",
        "\n",
        "\tassign wrdata_s5 = (memtoreg_s5 == 1'b1) ? rdata_s5 : alurslt_s5;\n",
        "\n",
        "\t// }}}"
      ]
    },
    {
      "cell_type": "markdown",
      "metadata": {
        "id": "L7k18ygazWa7"
      },
      "source": [
        "### **Main**"
      ]
    },
    {
      "cell_type": "markdown",
      "metadata": {
        "id": "xBTwpnd1nNfc"
      },
      "source": [
        "#### Debug"
      ]
    },
    {
      "cell_type": "code",
      "execution_count": 127,
      "metadata": {
        "colab": {
          "base_uri": "https://localhost:8080/"
        },
        "id": "GFHTvxlOk7qF",
        "outputId": "44e4f96b-0e3a-427f-ab91-0a79b25956b6"
      },
      "outputs": [
        {
          "output_type": "stream",
          "name": "stdout",
          "text": [
            "Overwriting debug.v\n"
          ]
        }
      ],
      "source": [
        "%%writefile debug.v\n",
        "wire signed [31:0] Ddata1_s3;\n",
        "assign Ddata1_s3 = data1_s3;\n",
        "\n",
        "wire signed [31:0] Dalurslt_s5;\n",
        "assign Dalurslt_s5 = alurslt_s5;\n",
        "\n",
        "wire signed [31:0] Dalurslt_s4;\n",
        "assign Dalurslt_s4 = alurslt_s4;\n",
        "\n",
        "wire signed [31:0] Ddata1;\n",
        "assign Ddata1 = data1;\n",
        "\n",
        "wire signed [31:0] Ddata2;\n",
        "assign Ddata2 = data2;\n",
        "\n",
        "wire signed [31:0] Ddata2_s4;\n",
        "assign Ddata2_s4 = data2_s4;\n",
        "\n",
        "\n",
        "wire signed [31:0] Dalurslt;\n",
        "assign Dalurslt = alurslt;\n",
        "\n",
        "wire signed [31:0] Drdata_s5;\n",
        "assign Drdata_s5 = rdata_s5;\n",
        "\n",
        "wire signed [31:0] Drdata;\n",
        "assign Drdata = rdata;\n",
        "\n",
        "wire signed [31:0] Dalusrc_data2;\n",
        "assign Dalusrc_data2 = alusrc_data2;\n",
        "\n",
        "wire signed [31:0] DImmGen;\n",
        "assign DImmGen = ImmGen;\n",
        "\n",
        "\n"
      ]
    },
    {
      "cell_type": "code",
      "execution_count": 128,
      "metadata": {
        "colab": {
          "base_uri": "https://localhost:8080/"
        },
        "id": "h9POVzmpeVG-",
        "outputId": "e7abaff0-c892-43fe-a6bb-91407f98c98b"
      },
      "outputs": [
        {
          "output_type": "stream",
          "name": "stdout",
          "text": [
            "Overwriting monitor.v\n"
          ]
        }
      ],
      "source": [
        "%%writefile monitor.v\n",
        "$monitor(\"cycle=%d        Decode         Exec                  Memory           WB\\n\\n\",\n",
        "main.CPU.clock_counter,\n",
        "\"        pc |opcode %b      |Alusrc %b op %d ctl %d|b%b 0x%h   | memtoreg %b\\n\",  \n",
        "main.CPU.opcoderv,main.CPU.alusrc_s3,main.CPU.aluop_s3,main.CPU.aluctl,\n",
        "main.CPU.branch_eq_s4,main.CPU.baddr_s4,main.CPU.memtoreg_s5,\n",
        "\"%d | rs  |-R-| value    |A %4d |--\\\\         |j%b 0x%h   |alu %4d\\n\",  \n",
        "main.CPU.pc,main.CPU.Ddata1_s3,main.CPU.jump_s4,main.CPU.jaddr_s4,\n",
        "main.CPU.Dalurslt_s5,\n",
        "\"inst       |%2d   | e | %4d     |       ALU | %4d   |                |mem %4d\\n\",  \n",
        "main.CPU.rs1,main.CPU.Ddata1,main.CPU.Dalurslt,main.CPU.Drdata_s5,\n",
        "\"0x%h |%2d   | g | %4d     |B %4d |--/         |addr %4d       |\\n\",\n",
        "main.CPU.inst,main.CPU.rs2,main.CPU.Ddata2,main.CPU.Dalusrc_data2,\n",
        "main.CPU.Dalurslt_s4,\n",
        "\"           |Im %6d    f3=%b |                    |r%b %4d         |w%b rd %d \\n\",\n",
        "main.CPU.DImmGen, main.CPU.func3,main.CPU.memread_s4,main.CPU.Drdata,\n",
        "main.CPU.regwrite_s5,main.CPU.wrreg_s5,\n",
        "\"pcsrc=  %b  |rd=%3d   f7=%b | rd= %d             |w%b %4d         |       |\\n\", \n",
        "main.CPU.pcsrc, main.CPU.rd, main.CPU.func7,main.CPU.rd_s3,\n",
        "main.CPU.memwrite_s4,main.CPU.Ddata2_s4,\n",
        "\"           |      /\\\\            |                    |w%d rd %d        |       |\\n\",\n",
        "main.CPU.regwrite_s4,main.CPU.wrreg_s4,\n",
        "\"                   |----------------------<-------------------<----------------           \\n\\n\");"
      ]
    },
    {
      "cell_type": "code",
      "execution_count": 129,
      "metadata": {
        "colab": {
          "base_uri": "https://localhost:8080/"
        },
        "id": "AgHjYTjeFiVB",
        "outputId": "0f7c106a-71c2-4eac-bc4a-07f1a4c7cc7e"
      },
      "outputs": [
        {
          "output_type": "stream",
          "name": "stdout",
          "text": [
            "Overwriting main.v\n"
          ]
        }
      ],
      "source": [
        "%%writefile main.v\n",
        "/*\n",
        " * cpu. - five stage MIPS CPU.\n",
        " *\n",
        " */\n",
        "\n",
        "// Module Definitions\n",
        "\n",
        "`include \"regr.v\"\n",
        "`include \"regbank.v\"\n",
        "`include \"Datamodule.v\"\n",
        "`include \"alu.v\"\n",
        "`include \"im_reg.v\"\n",
        "`include \"control.v\"\n",
        "\n",
        "module cpu(\n",
        "\t\tinput wire clk);\n",
        "\n",
        "\t\t\treg  [9:0] clock_counter;\n",
        "      reg  [6:0] stall;\n",
        "\tinitial begin\n",
        "\t\tclock_counter <= 10'd1;\n",
        "    stall <= 7'd0;\n",
        "\tend\n",
        "  always @(posedge clk) begin\n",
        "    clock_counter <= clock_counter + 1;\n",
        "  end\n",
        "\n",
        "\n",
        "\twire regwrite_s5;\n",
        "\twire [4:0] wrreg_s5;\n",
        "\twire [31:0]\twrdata_s5;\n",
        "\treg stall_s1_s2;\n",
        "\n",
        "\n",
        "\n",
        "// stage 1, IF (fetch)\n",
        "// **********************************************************\n",
        "`include \"fetchunit.v\"\n",
        "`include \"stage_bar_s2.v\"\n",
        "\n",
        "// {{{ stage 2, ID (decode)\n",
        "// **********************************************************\n",
        "`include \"decodefields.v\"\n",
        "// modified ** update hazard **\n",
        "// REMOVED: \"loadhazard.v\"\n",
        "`include \"dependencehazard.v\"\n",
        "`include \"pipelineDecExec_s2.v\"\n",
        "\n",
        "\t// {{{ stage 3, EX (execute)\n",
        " // **********************************************************\n",
        " // modified ** removing forward ** \n",
        " // REMOVED: reg [31:0] fw_data1_s3;\n",
        "`include \"execution_newcode.v\"\n",
        "`include \"pipelineExeMem.v\"\n",
        "\n",
        "\n",
        "// 4 Stage Memory\n",
        "// **********************************************************\n",
        "`include \"datam.v\"\n",
        "`include \"pipelineMemWB.v\"\t\n",
        "\n",
        "// 5 Stage WriteBack\n",
        "// **********************************************************\n",
        "`include \"writeback.v\"\n",
        "\n",
        "\n",
        "`include \"debug.v\"\n",
        "\n",
        "endmodule\n",
        "\n",
        "\n",
        "module main;\n",
        "reg clk;\n",
        "\n",
        "initial begin\n",
        "  clk=0; #1\n",
        "     forever #1 clk = ~clk;  \n",
        "end \n",
        "\n",
        "\n",
        "//altere aqui, de acordo com o numero de instruções no programa\n",
        "parameter inst = 50;\n",
        "cpu CPU(clk);\n",
        "initial begin\n",
        "    $dumpfile(\"test.vcd\");\n",
        "    $dumpvars(0,main);\n",
        "    `include \"monitor.v\" \n",
        "    `include \"clock_div_2.v\"\n",
        "    $writememh(\"mem.data\", main.CPU.dm1.mem, 0, 31);\n",
        "    $writememh(\"reg.data\", main.CPU.regm1.mem, 0, 31);\n",
        "    $dumpoff;\n",
        "    $finish;\n",
        "    end\n",
        "\n",
        "endmodule"
      ]
    },
    {
      "cell_type": "markdown",
      "metadata": {
        "id": "rls5HXhNhXI-"
      },
      "source": [
        "# Código de execução"
      ]
    },
    {
      "cell_type": "markdown",
      "metadata": {
        "id": "EH33TJ4-Ajfa"
      },
      "source": [
        "## Codigo de teste RISCV"
      ]
    },
    {
      "cell_type": "markdown",
      "metadata": {
        "id": "I38qXPrFASMS"
      },
      "source": [
        "\n",
        "\n",
        "```\n",
        "nop\n",
        "\n",
        "# Fazer um printf 2^e * 1.x onde e=-3 a +4 e x é parte fracionária\n",
        "addi t0, x0, 0b101 # e\n",
        "addi t1, x0, 0b1100 # x\n",
        "\n",
        "# Calcula e-3\n",
        "addi t0, t0, -3\n",
        "\n",
        "# Parte 2^e\n",
        "addi t2, x0, 0 ## inicializa com 0 (armazena resultado)\n",
        "\n",
        "## Calcula '2'\n",
        "addi t3, x0, 50 ## inicializa em 50 ('2' em ASCII)\n",
        "add t2, t2, t3 ## adiciona ao resultado\n",
        "\n",
        "## Calcula '^'\n",
        "addi t3, x0, 94 ## inicializa em 94 ('^' em ASCII)\n",
        "addi s0, x0, 8\n",
        "sll t3, t3, s0 ## arrasta 8 bits à esquerda\n",
        "add t2, t2, t3 ## adiciona ao resultado\n",
        "\n",
        "## Calcula sinal\n",
        "addi t3, x0, 43 ## inicializa em 43 ('+' em ASCII)\n",
        "bge t0, zero, sinal ## verifica o sinal do expoente\n",
        "addi t3, t3, 2 ## armazena 45 ('-' em ASCII)\n",
        "sinal: addi s0, x0, 16\n",
        "sll t3, t3, s0 ## arrasta 16 bits à esquerda\n",
        "add t2, t2, t3 ## adiciona ao resultado\n",
        "\n",
        "## Calcula e\n",
        "bge t0, zero, expoente ## verifica o sinal do expoente\n",
        "addi t3, zero, -1 ## calcula -1\n",
        "mul t0, t0, t3 ## inverte o sinal do expoente (caso seja negativo)\n",
        "expoente: addi t3, t0, 48 ## inicializa em 48 + e (e em ASCII)\n",
        "addi s0, x0, 24\n",
        "sll t3, t3, s0 ## arrasta 20 bits à esquerda\n",
        "add t2, t2, t3 ## adiciona ao resultado\n",
        "\n",
        "## Escreve na memória\n",
        "addi gp, x0, 0 ## define posição inicial da memória\n",
        "sw t2, 0(gp)\n",
        "\n",
        "# Parte 1.\n",
        "addi t2, x0, 0 ## inicializa com 0 (armazena resultado)\n",
        "\n",
        "## Calcula '1'\n",
        "addi t3, x0, 49 ## inicializa em 49 ('1' em ASCII)\n",
        "add t2, t2, t3 ## adiciona ao resultado\n",
        "\n",
        "## Calcula '.'\n",
        "addi t3, x0, 46 ## inicializa em 46 ('.' em ASCII)\n",
        "addi s0, x0, 8\n",
        "sll t3, t3, s0 ## arrasta 8 bits à esquerda\n",
        "add t2, t2, t3 ## adiciona ao resultado\n",
        "\n",
        "## Escreve na memória\n",
        "sw t2, 4(gp)\n",
        "\n",
        "# Parte x\n",
        "\n",
        "## Encontra a linha da mantissa\n",
        "addi t2, x0, 0\n",
        "beq t1, t2, M0000\n",
        "addi t2, t2, 1\n",
        "beq t1, t2, M0001\n",
        "addi t2, t2, 1\n",
        "beq t1, t2, M0010\n",
        "addi t2, t2, 1\n",
        "beq t1, t2, M0011\n",
        "addi t2, t2, 1\n",
        "beq t1, t2, M0100\n",
        "addi t2, t2, 1\n",
        "beq t1, t2, M0101\n",
        "addi t2, t2, 1\n",
        "beq t1, t2, M0110\n",
        "addi t2, t2, 1\n",
        "beq t1, t2, M0111\n",
        "addi t2, t2, 1\n",
        "beq t1, t2, M1000\n",
        "addi t2, t2, 1\n",
        "beq t1, t2, M1001\n",
        "addi t2, t2, 1\n",
        "beq t1, t2, M1010\n",
        "addi t2, t2, 1\n",
        "beq t1, t2, M1011\n",
        "addi t2, t2, 1\n",
        "beq t1, t2, M1100\n",
        "addi t2, t2, 1\n",
        "beq t1, t2, M1101\n",
        "addi t2, t2, 1\n",
        "beq t1, t2, M1110\n",
        "addi t2, t2, 1\n",
        "beq t1, t2, M1111\n",
        "\n",
        "beq x0, x0, END\n",
        "\n",
        "M0000:\n",
        "###2^-4\n",
        "addi t2, x0, 48\n",
        "sw t2, 20(gp)\n",
        "\n",
        "###2^-3\n",
        "addi t2, x0, 48\n",
        "sw t2, 16(gp)\n",
        "\n",
        "###2^-2\n",
        "addi t2, x0, 48\n",
        "sw t2, 12(gp)\n",
        "\n",
        "###2^-1\n",
        "addi t2, x0, 48\n",
        "sw t2, 8(gp)\n",
        "\n",
        "beq x0, x0, END\n",
        "\n",
        "M0001:\n",
        "###2^-4\n",
        "addi t2, x0, 53\n",
        "sw t2, 20(gp)\n",
        "\n",
        "###2^-3\n",
        "addi t2, x0, 50\n",
        "sw t2, 16(gp)\n",
        "\n",
        "###2^-2\n",
        "addi t2, x0, 54\n",
        "sw t2, 12(gp)\n",
        "\n",
        "###2^-1\n",
        "addi t2, x0, 48\n",
        "sw t2, 8(gp)\n",
        "\n",
        "beq x0, x0, END\n",
        "\n",
        "M0010:\n",
        "###2^-4\n",
        "addi t2, x0, 48\n",
        "sw t2, 20(gp)\n",
        "\n",
        "###2^-3\n",
        "addi t2, x0, 53\n",
        "sw t2, 16(gp)\n",
        "\n",
        "###2^-2\n",
        "addi t2, x0, 50\n",
        "sw t2, 12(gp)\n",
        "\n",
        "###2^-1\n",
        "addi t2, x0, 49\n",
        "sw t2, 8(gp)\n",
        "\n",
        "beq x0, x0, END\n",
        "\n",
        "M0011:\n",
        "###2^-4\n",
        "addi t2, x0, 53\n",
        "sw t2, 20(gp)\n",
        "\n",
        "###2^-3\n",
        "addi t2, x0, 55\n",
        "sw t2, 16(gp)\n",
        "\n",
        "###2^-2\n",
        "addi t2, x0, 56\n",
        "sw t2, 12(gp)\n",
        "\n",
        "###2^-1\n",
        "addi t2, x0, 49\n",
        "sw t2, 8(gp)\n",
        "\n",
        "beq x0, x0, END\n",
        "\n",
        "M0100:\n",
        "###2^-4\n",
        "addi t2, x0, 48\n",
        "sw t2, 20(gp)\n",
        "\n",
        "###2^-3\n",
        "addi t2, x0, 48\n",
        "sw t2, 16(gp)\n",
        "\n",
        "###2^-2\n",
        "addi t2, x0, 53\n",
        "sw t2, 12(gp)\n",
        "\n",
        "###2^-1\n",
        "addi t2, x0, 50\n",
        "sw t2, 8(gp)\n",
        "\n",
        "beq x0, x0, END\n",
        "\n",
        "M0101:\n",
        "###2^-4\n",
        "addi t2, x0, 53\n",
        "sw t2, 20(gp)\n",
        "\n",
        "###2^-3\n",
        "addi t2, x0, 50\n",
        "sw t2, 16(gp)\n",
        "\n",
        "###2^-2\n",
        "addi t2, x0, 49\n",
        "sw t2, 12(gp)\n",
        "\n",
        "###2^-1\n",
        "addi t2, x0, 51\n",
        "sw t2, 8(gp)\n",
        "\n",
        "beq x0, x0, END\n",
        "\n",
        "M0110:\n",
        "###2^-4\n",
        "addi t2, x0, 48\n",
        "sw t2, 20(gp)\n",
        "\n",
        "###2^-3\n",
        "addi t2, x0, 53\n",
        "sw t2, 16(gp)\n",
        "\n",
        "###2^-2\n",
        "addi t2, x0, 55\n",
        "sw t2, 12(gp)\n",
        "\n",
        "###2^-1\n",
        "addi t2, x0, 51\n",
        "sw t2, 8(gp)\n",
        "\n",
        "beq x0, x0, END\n",
        "\n",
        "M0111:\n",
        "###2^-4\n",
        "addi t2, x0, 53\n",
        "sw t2, 20(gp)\n",
        "\n",
        "###2^-3\n",
        "addi t2, x0, 55\n",
        "sw t2, 16(gp)\n",
        "\n",
        "###2^-2\n",
        "addi t2, x0, 51\n",
        "sw t2, 12(gp)\n",
        "\n",
        "###2^-1\n",
        "addi t2, x0, 52\n",
        "sw t2, 8(gp)\n",
        "\n",
        "beq x0, x0, END\n",
        "\n",
        "M1000:\n",
        "###2^-4\n",
        "addi t2, x0, 48\n",
        "sw t2, 20(gp)\n",
        "\n",
        "###2^-3\n",
        "addi t2, x0, 48\n",
        "sw t2, 16(gp)\n",
        "\n",
        "###2^-2\n",
        "addi t2, x0, 48\n",
        "sw t2, 12(gp)\n",
        "\n",
        "###2^-1\n",
        "addi t2, x0, 53\n",
        "sw t2, 8(gp)\n",
        "\n",
        "beq x0, x0, END\n",
        "\n",
        "M1001:\n",
        "###2^-4\n",
        "addi t2, x0, 53\n",
        "sw t2, 20(gp)\n",
        "\n",
        "###2^-3\n",
        "addi t2, x0, 50\n",
        "sw t2, 16(gp)\n",
        "\n",
        "###2^-2\n",
        "addi t2, x0, 54\n",
        "sw t2, 12(gp)\n",
        "\n",
        "###2^-1\n",
        "addi t2, x0, 53\n",
        "sw t2, 8(gp)\n",
        "\n",
        "beq x0, x0, END\n",
        "\n",
        "M1010:\n",
        "###2^-4\n",
        "addi t2, x0, 48\n",
        "sw t2, 20(gp)\n",
        "\n",
        "###2^-3\n",
        "addi t2, x0, 53\n",
        "sw t2, 16(gp)\n",
        "\n",
        "###2^-2\n",
        "addi t2, x0, 50\n",
        "sw t2, 12(gp)\n",
        "\n",
        "###2^-1\n",
        "addi t2, x0, 54\n",
        "sw t2, 8(gp)\n",
        "\n",
        "beq x0, x0, END\n",
        "\n",
        "M1011:\n",
        "###2^-4\n",
        "addi t2, x0, 53\n",
        "sw t2, 20(gp)\n",
        "\n",
        "###2^-3\n",
        "addi t2, x0, 55\n",
        "sw t2, 16(gp)\n",
        "\n",
        "###2^-2\n",
        "addi t2, x0, 56\n",
        "sw t2, 12(gp)\n",
        "\n",
        "###2^-1\n",
        "addi t2, x0, 54\n",
        "sw t2, 8(gp)\n",
        "\n",
        "beq x0, x0, END\n",
        "\n",
        "M1100:\n",
        "###2^-4\n",
        "addi t2, x0, 48\n",
        "sw t2, 20(gp)\n",
        "\n",
        "###2^-3\n",
        "addi t2, x0, 48\n",
        "sw t2, 16(gp)\n",
        "\n",
        "###2^-2\n",
        "addi t2, x0, 53\n",
        "sw t2, 12(gp)\n",
        "\n",
        "###2^-1\n",
        "addi t2, x0, 55\n",
        "sw t2, 8(gp)\n",
        "\n",
        "beq x0, x0, END\n",
        "\n",
        "M1101:\n",
        "###2^-4\n",
        "addi t2, x0, 53\n",
        "sw t2, 20(gp)\n",
        "\n",
        "###2^-3\n",
        "addi t2, x0, 50\n",
        "sw t2, 16(gp)\n",
        "\n",
        "###2^-2\n",
        "addi t2, x0, 49\n",
        "sw t2, 12(gp)\n",
        "\n",
        "###2^-1\n",
        "addi t2, x0, 56\n",
        "sw t2, 8(gp)\n",
        "\n",
        "beq x0, x0, END\n",
        "\n",
        "M1110:\n",
        "###2^-4\n",
        "addi t2, x0, 48\n",
        "sw t2, 20(gp)\n",
        "\n",
        "###2^-3\n",
        "addi t2, x0, 53\n",
        "sw t2, 16(gp)\n",
        "\n",
        "###2^-2\n",
        "addi t2, x0, 55\n",
        "sw t2, 12(gp)\n",
        "\n",
        "###2^-1\n",
        "addi t2, x0, 56\n",
        "sw t2, 8(gp)\n",
        "\n",
        "beq x0, x0, END\n",
        "\n",
        "M1111:\n",
        "###2^-4\n",
        "addi t2, x0, 53\n",
        "sw t2, 20(gp)\n",
        "\n",
        "###2^-3\n",
        "addi t2, x0, 55\n",
        "sw t2, 16(gp)\n",
        "\n",
        "###2^-2\n",
        "addi t2, x0, 51\n",
        "sw t2, 12(gp)\n",
        "\n",
        "###2^-1\n",
        "addi t2, x0, 57\n",
        "sw t2, 8(gp)\n",
        "\n",
        "beq x0, x0, END\n",
        "\n",
        "END: nop\n",
        "```"
      ]
    },
    {
      "cell_type": "markdown",
      "metadata": {
        "id": "vg8yw5_CAt5X"
      },
      "source": [
        "## Hexadecimal do código"
      ]
    },
    {
      "cell_type": "code",
      "execution_count": 130,
      "metadata": {
        "colab": {
          "base_uri": "https://localhost:8080/"
        },
        "id": "Rwi0d6WNh-Ca",
        "outputId": "d08b8e78-2f2d-4438-9502-9b4c21683572"
      },
      "outputs": [
        {
          "output_type": "stream",
          "name": "stdout",
          "text": [
            "Overwriting im_data.txt\n"
          ]
        }
      ],
      "source": [
        "%%writefile im_data.txt\n",
        "00000013\n",
        "00400293\n",
        "00f00313\n",
        "ffd28293\n",
        "00000393\n",
        "03200e13\n",
        "01c383b3\n",
        "05e00e13\n",
        "00800413\n",
        "008e1e33\n",
        "01c383b3\n",
        "02b00e13\n",
        "0002d463\n",
        "002e0e13\n",
        "01000413\n",
        "008e1e33\n",
        "01c383b3\n",
        "0002d663\n",
        "fff00e13\n",
        "03c282b3\n",
        "03028e13\n",
        "01800413\n",
        "008e1e33\n",
        "01c383b3\n",
        "00000193\n",
        "0071a023\n",
        "00000393\n",
        "03100e13\n",
        "01c383b3\n",
        "02e00e13\n",
        "00800413\n",
        "008e1e33\n",
        "01c383b3\n",
        "0071a223\n",
        "00000393\n",
        "08730063\n",
        "00138393\n",
        "08730e63\n",
        "00138393\n",
        "0a730c63\n",
        "00138393\n",
        "0c730a63\n",
        "00138393\n",
        "0e730863\n",
        "00138393\n",
        "10730663\n",
        "00138393\n",
        "12730463\n",
        "00138393\n",
        "14730263\n",
        "00138393\n",
        "16730063\n",
        "00138393\n",
        "16730e63\n",
        "00138393\n",
        "18730c63\n",
        "00138393\n",
        "1a730a63\n",
        "00138393\n",
        "1c730863\n",
        "00138393\n",
        "1e730663\n",
        "00138393\n",
        "20730463\n",
        "00138393\n",
        "22730263\n",
        "24000263\n",
        "03000393\n",
        "0071aa23\n",
        "03000393\n",
        "0071a823\n",
        "03000393\n",
        "0071a623\n",
        "03000393\n",
        "0071a423\n",
        "22000063\n",
        "03500393\n",
        "0071aa23\n",
        "03200393\n",
        "0071a823\n",
        "03600393\n",
        "0071a623\n",
        "03000393\n",
        "0071a423\n",
        "1e000e63\n",
        "03000393\n",
        "0071aa23\n",
        "03500393\n",
        "0071a823\n",
        "03200393\n",
        "0071a623\n",
        "03100393\n",
        "0071a423\n",
        "1c000c63\n",
        "03500393\n",
        "0071aa23\n",
        "03700393\n",
        "0071a823\n",
        "03800393\n",
        "0071a623\n",
        "03100393\n",
        "0071a423\n",
        "1a000a63\n",
        "03000393\n",
        "0071aa23\n",
        "03000393\n",
        "0071a823\n",
        "03500393\n",
        "0071a623\n",
        "03200393\n",
        "0071a423\n",
        "18000863\n",
        "03500393\n",
        "0071aa23\n",
        "03200393\n",
        "0071a823\n",
        "03100393\n",
        "0071a623\n",
        "03300393\n",
        "0071a423\n",
        "16000663\n",
        "03000393\n",
        "0071aa23\n",
        "03500393\n",
        "0071a823\n",
        "03700393\n",
        "0071a623\n",
        "03300393\n",
        "0071a423\n",
        "14000463\n",
        "03500393\n",
        "0071aa23\n",
        "03700393\n",
        "0071a823\n",
        "03300393\n",
        "0071a623\n",
        "03400393\n",
        "0071a423\n",
        "12000263\n",
        "03000393\n",
        "0071aa23\n",
        "03000393\n",
        "0071a823\n",
        "03000393\n",
        "0071a623\n",
        "03500393\n",
        "0071a423\n",
        "10000063\n",
        "03500393\n",
        "0071aa23\n",
        "03200393\n",
        "0071a823\n",
        "03600393\n",
        "0071a623\n",
        "03500393\n",
        "0071a423\n",
        "0c000e63\n",
        "03000393\n",
        "0071aa23\n",
        "03500393\n",
        "0071a823\n",
        "03200393\n",
        "0071a623\n",
        "03600393\n",
        "0071a423\n",
        "0a000c63\n",
        "03500393\n",
        "0071aa23\n",
        "03700393\n",
        "0071a823\n",
        "03800393\n",
        "0071a623\n",
        "03600393\n",
        "0071a423\n",
        "08000a63\n",
        "03000393\n",
        "0071aa23\n",
        "03000393\n",
        "0071a823\n",
        "03500393\n",
        "0071a623\n",
        "03700393\n",
        "0071a423\n",
        "06000863\n",
        "03500393\n",
        "0071aa23\n",
        "03200393\n",
        "0071a823\n",
        "03100393\n",
        "0071a623\n",
        "03800393\n",
        "0071a423\n",
        "04000663\n",
        "03000393\n",
        "0071aa23\n",
        "03500393\n",
        "0071a823\n",
        "03700393\n",
        "0071a623\n",
        "03800393\n",
        "0071a423\n",
        "02000463\n",
        "03500393\n",
        "0071aa23\n",
        "03700393\n",
        "0071a823\n",
        "03300393\n",
        "0071a623\n",
        "03900393\n",
        "0071a423\n",
        "00000263\n",
        "00000013"
      ]
    },
    {
      "cell_type": "markdown",
      "metadata": {
        "id": "abo9M3vBjo1g"
      },
      "source": [
        "# Compilando e Executando"
      ]
    },
    {
      "cell_type": "code",
      "execution_count": 131,
      "metadata": {
        "colab": {
          "base_uri": "https://localhost:8080/"
        },
        "id": "a4iBha08klbq",
        "outputId": "0781b41a-9b35-4e16-f595-5b2c32e48d89"
      },
      "outputs": [
        {
          "output_type": "stream",
          "name": "stdout",
          "text": [
            "Overwriting clock_div_2.v\n"
          ]
        }
      ],
      "source": [
        "%%writefile clock_div_2.v\n",
        "#20"
      ]
    },
    {
      "cell_type": "code",
      "execution_count": 132,
      "metadata": {
        "colab": {
          "base_uri": "https://localhost:8080/"
        },
        "id": "0wLqr9Pfjssf",
        "outputId": "06fbfe1e-ca31-4c9d-b0d1-b5e00729a9a8"
      },
      "outputs": [
        {
          "output_type": "stream",
          "name": "stdout",
          "text": [
            "./pipelineDecExec_s2.v:29: warning: Port 4 (in) of regr expects 5 bits, got 4.\n",
            "./pipelineDecExec_s2.v:29:        : Padding 1 high bits of the port.\n",
            "./execution_newcode.v:10: warning: Port 1 (funct) of alu_control expects 4 bits, got 5.\n",
            "./execution_newcode.v:10:        : Pruning 1 high bits of the expression.\n",
            "VCD info: dumpfile test.vcd opened for output.\n",
            "cycle=   1        Decode         Exec                  Memory           WB\n",
            "\n",
            "        pc |opcode xxxxxxx      |Alusrc x op x ctl  x|bx 0xxxxxxxxx   | memtoreg x\n",
            "         0 | rs  |-R-| value    |A    x |--\\         |jx 0xxxxxxxxx   |alu    x\n",
            "inst       | x   | e |    x     |       ALU |    x   |                |mem    x\n",
            "0x00000013 | x   | g |    x     |B    x |--/         |addr    x       |\n",
            "           |Im      x    f3=xxx |                    |rx    x         |wx rd  x \n",
            "pcsrc=  x  |rd=  x   f7=xxxxxxx | rd=  x             |wx    x         |       |\n",
            "           |      /\\            |                    |wx rd  x        |       |\n",
            "                   |----------------------<-------------------<----------------           \n",
            "\n",
            "\n",
            "cycle=   2        Decode         Exec                  Memory           WB\n",
            "\n",
            "        pc |opcode 0010011      |Alusrc x op x ctl  x|bx 0xxxxxxxxx   | memtoreg x\n",
            "         4 | rs  |-R-| value    |A    x |--\\         |jx 0xxxxxxxxx   |alu    x\n",
            "inst       | 0   | e |    0     |       ALU |    x   |                |mem    x\n",
            "0x00400293 | 0   | g |    0     |B    x |--/         |addr    x       |\n",
            "           |Im      0    f3=000 |                    |rx    x         |wx rd  x \n",
            "pcsrc=  x  |rd=  0   f7=0000000 | rd=  x             |wx    x         |       |\n",
            "           |      /\\            |                    |wx rd  x        |       |\n",
            "                   |----------------------<-------------------<----------------           \n",
            "\n",
            "\n",
            "cycle=   3        Decode         Exec                  Memory           WB\n",
            "\n",
            "        pc |opcode 0010011      |Alusrc 1 op 3 ctl  2|bx 0xxxxxxxxx   | memtoreg x\n",
            "         8 | rs  |-R-| value    |A    0 |--\\         |jx 0xxxxxxxxx   |alu    x\n",
            "inst       | 0   | e |    0     |       ALU |    0   |                |mem    x\n",
            "0x00f00313 | 4   | g |    0     |B    0 |--/         |addr    x       |\n",
            "           |Im      4    f3=000 |                    |rx    x         |wx rd  x \n",
            "pcsrc=  x  |rd=  5   f7=0000000 | rd=  0             |wx    x         |       |\n",
            "           |      /\\            |                    |wx rd  x        |       |\n",
            "                   |----------------------<-------------------<----------------           \n",
            "\n",
            "\n",
            "cycle=   4        Decode         Exec                  Memory           WB\n",
            "\n",
            "        pc |opcode 0010011      |Alusrc 1 op 3 ctl  2|b0 0x00000000   | memtoreg x\n",
            "        12 | rs  |-R-| value    |A    0 |--\\         |j0 0x00000000   |alu    x\n",
            "inst       | 0   | e |    0     |       ALU |    4   |                |mem    x\n",
            "0xffd28293 |15   | g |    0     |B    4 |--/         |addr    0       |\n",
            "           |Im     15    f3=000 |                    |r0    0         |wx rd  x \n",
            "pcsrc=  0  |rd=  6   f7=0000000 | rd=  5             |w0    0         |       |\n",
            "           |      /\\            |                    |w1 rd  0        |       |\n",
            "                   |----------------------<-------------------<----------------           \n",
            "\n",
            "\n",
            "cycle=   5        Decode         Exec                  Memory           WB\n",
            "\n",
            "        pc |opcode 0010011      |Alusrc 1 op 3 ctl  2|b0 0x00000008   | memtoreg 0\n",
            "        16 | rs  |-R-| value    |A    0 |--\\         |j0 0x00000008   |alu    0\n",
            "inst       | 5   | e |    0     |       ALU |   15   |                |mem    0\n",
            "0x00000393 |29   | g |    0     |B   15 |--/         |addr    4       |\n",
            "           |Im     -3    f3=000 |                    |r0    0         |w1 rd  0 \n",
            "pcsrc=  0  |rd=  5   f7=1111111 | rd=  6             |w0    0         |       |\n",
            "           |      /\\            |                    |w1 rd  5        |       |\n",
            "                   |----------------------<-------------------<----------------           \n",
            "\n",
            "\n",
            "cycle=   6        Decode         Exec                  Memory           WB\n",
            "\n",
            "        pc |opcode 0010011      |Alusrc 0 op 0 ctl  2|b0 0x00000017   | memtoreg 0\n",
            "        16 | rs  |-R-| value    |A    0 |--\\         |j0 0x00000017   |alu    4\n",
            "inst       | 5   | e |    4     |       ALU |    0   |                |mem    0\n",
            "0x00000393 |29   | g |    0     |B    0 |--/         |addr   15       |\n",
            "           |Im     -3    f3=000 |                    |r0    0         |w1 rd  5 \n",
            "pcsrc=  0  |rd=  5   f7=1111111 | rd=  0             |w0    0         |       |\n",
            "           |      /\\            |                    |w1 rd  6        |       |\n",
            "                   |----------------------<-------------------<----------------           \n",
            "\n",
            "\n",
            "cycle=   7        Decode         Exec                  Memory           WB\n",
            "\n",
            "        pc |opcode 0010011      |Alusrc 1 op 3 ctl  2|b0 0x00000000   | memtoreg 0\n",
            "        20 | rs  |-R-| value    |A    4 |--\\         |j0 0x00000000   |alu   15\n",
            "inst       | 0   | e |    0     |       ALU |    1   |                |mem    0\n",
            "0x03200e13 | 0   | g |    0     |B   -3 |--/         |addr    0       |\n",
            "           |Im      0    f3=000 |                    |r0    0         |w1 rd  6 \n",
            "pcsrc=  0  |rd=  7   f7=0000000 | rd=  5             |w0    0         |       |\n",
            "           |      /\\            |                    |w0 rd  0        |       |\n",
            "                   |----------------------<-------------------<----------------           \n",
            "\n",
            "\n",
            "cycle=   8        Decode         Exec                  Memory           WB\n",
            "\n",
            "        pc |opcode 0010011      |Alusrc 1 op 3 ctl  2|b0 0x00000009   | memtoreg 0\n",
            "        24 | rs  |-R-| value    |A    0 |--\\         |j0 0x00000009   |alu    0\n",
            "inst       | 0   | e |    0     |       ALU |    0   |                |mem    0\n",
            "0x01c383b3 |18   | g |    0     |B    0 |--/         |addr    1       |\n",
            "           |Im     50    f3=000 |                    |r0    0         |w0 rd  0 \n",
            "pcsrc=  0  |rd= 28   f7=0000001 | rd=  7             |w0    0         |       |\n",
            "           |      /\\            |                    |w1 rd  5        |       |\n",
            "                   |----------------------<-------------------<----------------           \n",
            "\n",
            "\n",
            "cycle=   9        Decode         Exec                  Memory           WB\n",
            "\n",
            "        pc |opcode 0110011      |Alusrc 1 op 3 ctl  2|b0 0x00000010   | memtoreg 0\n",
            "        28 | rs  |-R-| value    |A    0 |--\\         |j0 0x00000010   |alu    1\n",
            "inst       | 7   | e |    0     |       ALU |   50   |                |mem    0\n",
            "0x05e00e13 |28   | g |    0     |B   50 |--/         |addr    0       |\n",
            "           |Im     28    f3=000 |                    |r0    0         |w1 rd  5 \n",
            "pcsrc=  0  |rd=  7   f7=0000000 | rd= 28             |w0    0         |       |\n",
            "           |      /\\            |                    |w1 rd  7        |       |\n",
            "                   |----------------------<-------------------<----------------           \n",
            "\n",
            "\n",
            "cycle=  10        Decode         Exec                  Memory           WB\n",
            "\n",
            "        pc |opcode 0110011      |Alusrc 0 op 0 ctl  2|b0 0x00000046   | memtoreg 0\n",
            "        28 | rs  |-R-| value    |A    0 |--\\         |j0 0x00000046   |alu    0\n",
            "inst       | 7   | e |    0     |       ALU |    0   |                |mem    0\n",
            "0x05e00e13 |28   | g |    0     |B    0 |--/         |addr   50       |\n",
            "           |Im     28    f3=000 |                    |r0    0         |w1 rd  7 \n",
            "pcsrc=  0  |rd=  7   f7=0000000 | rd=  0             |w0    0         |       |\n",
            "           |      /\\            |                    |w1 rd 28        |       |\n",
            "                   |----------------------<-------------------<----------------           \n",
            "\n",
            "\n",
            "cycle=  11        Decode         Exec                  Memory           WB\n",
            "\n",
            "        pc |opcode 0110011      |Alusrc 0 op 0 ctl  2|b0 0x00000000   | memtoreg 0\n",
            "        28 | rs  |-R-| value    |A    0 |--\\         |j0 0x00000000   |alu   50\n",
            "inst       | 7   | e |    0     |       ALU |    0   |                |mem    0\n",
            "0x05e00e13 |28   | g |   50     |B    0 |--/         |addr    0       |\n",
            "           |Im     28    f3=000 |                    |r0    0         |w1 rd 28 \n",
            "pcsrc=  0  |rd=  7   f7=0000000 | rd=  0             |w0    0         |       |\n",
            "           |      /\\            |                    |w0 rd  0        |       |\n",
            "                   |----------------------<-------------------<----------------           \n",
            "\n",
            "\n"
          ]
        }
      ],
      "source": [
        "!iverilog main.v \n",
        "!./a.out"
      ]
    },
    {
      "cell_type": "markdown",
      "metadata": {
        "id": "KZrIu5iyGO5w"
      },
      "source": [
        "## Saidas Python"
      ]
    },
    {
      "cell_type": "code",
      "source": [
        "!cat reg.data"
      ],
      "metadata": {
        "id": "pGIgjxcqD5ff"
      },
      "execution_count": null,
      "outputs": []
    },
    {
      "cell_type": "code",
      "execution_count": null,
      "metadata": {
        "id": "lJP4pDVchd28"
      },
      "outputs": [],
      "source": [
        "!cat mem.data"
      ]
    },
    {
      "cell_type": "markdown",
      "metadata": {
        "id": "45qLpIW82QtP"
      },
      "source": [
        "# Interativo Compilando e Executando\n"
      ]
    },
    {
      "cell_type": "markdown",
      "metadata": {
        "id": "vjqh8Oav2VbR"
      },
      "source": [
        "## Widget"
      ]
    },
    {
      "cell_type": "code",
      "execution_count": 135,
      "metadata": {
        "colab": {
          "base_uri": "https://localhost:8080/",
          "height": 79,
          "referenced_widgets": [
            "5dc01341348b4a788b34e23d189ce2f9",
            "0ce9802094814016832efd85159d6117",
            "95f37ef19faa46a286b14d8ae0d9d3b1",
            "f603842c0a824a91ae94a234b0838613",
            "d6838e37f9da43ba9e5ffc8cb524c61b",
            "3d30cb5b41e64bb094d01fc1b3d2aaa1"
          ]
        },
        "id": "Bnw1xCQL2YUm",
        "outputId": "a0854f23-73eb-48e9-be27-bc5be7c8d877"
      },
      "outputs": [
        {
          "output_type": "display_data",
          "data": {
            "text/plain": [
              "IntText(value=12, description='Cycles')"
            ],
            "application/vnd.jupyter.widget-view+json": {
              "version_major": 2,
              "version_minor": 0,
              "model_id": "5dc01341348b4a788b34e23d189ce2f9"
            }
          },
          "metadata": {}
        },
        {
          "output_type": "display_data",
          "data": {
            "text/plain": [
              "IntSlider(value=2, description='Animation time', max=4, style=SliderStyle(description_width='initial'))"
            ],
            "application/vnd.jupyter.widget-view+json": {
              "version_major": 2,
              "version_minor": 0,
              "model_id": "f603842c0a824a91ae94a234b0838613"
            }
          },
          "metadata": {}
        }
      ],
      "source": [
        "import ipywidgets as widgets\n",
        "from IPython.display import display\n",
        "\n",
        "\n",
        "a = widgets.IntText(value=12, \n",
        "       description='Cycles')\n",
        "\n",
        "#lastCycles = widgets.IntText(value=2, \n",
        "#       description='Cycles to show',style={'description_width': 'initial'},)\n",
        "\n",
        "\n",
        "timestep = 2\n",
        "Animation  = widgets.IntSlider(value=timestep, min=0, max=4,\n",
        "              description='Animation time',style={'description_width': 'initial'})\n",
        "\n",
        "\n",
        "Cycles = 5\n",
        "def f1(a):\n",
        "  global Cycles\n",
        "  file = open(\"clock_div_2.v\",\"w\")\n",
        "  Cycles = a\n",
        "  a = 2*(a-1)\n",
        "  file.write(\"#\"+str(a))\n",
        "  file.close\n",
        "\n",
        "\n",
        "def f2(a):\n",
        "  global timestep\n",
        "  timestep = a\n",
        "    \n",
        "out1 = widgets.interactive_output(f1, {'a': a})\n",
        "out2 = widgets.interactive_output(f2, {'a': Animation})\n",
        "\n",
        "display(a)\n",
        "display(Animation)"
      ]
    },
    {
      "cell_type": "code",
      "execution_count": 136,
      "metadata": {
        "id": "iSiahUZB83fN",
        "outputId": "92c58151-5bf4-4507-9ad2-72269bd1cce8",
        "colab": {
          "base_uri": "https://localhost:8080/"
        },
        "cellView": "form"
      },
      "outputs": [
        {
          "output_type": "stream",
          "name": "stdout",
          "text": [
            "./pipelineDecExec_s2.v:29: warning: Port 4 (in) of regr expects 5 bits, got 4.\n",
            "./pipelineDecExec_s2.v:29:        : Padding 1 high bits of the port.\n",
            "./execution_newcode.v:10: warning: Port 1 (funct) of alu_control expects 4 bits, got 5.\n",
            "./execution_newcode.v:10:        : Pruning 1 high bits of the expression.\n"
          ]
        }
      ],
      "source": [
        "#@title Compile, Execute\n",
        "!iverilog main.v\n",
        "!./a.out >& out.txt"
      ]
    },
    {
      "cell_type": "code",
      "execution_count": 137,
      "metadata": {
        "colab": {
          "base_uri": "https://localhost:8080/"
        },
        "id": "nECWrRVXrh8R",
        "outputId": "13534917-5e9c-4911-8a35-c950a9392dd0"
      },
      "outputs": [
        {
          "output_type": "stream",
          "name": "stdout",
          "text": [
            "// 0x00000000\n",
            "00000000\n",
            "ffffffff\n",
            "00000000\n",
            "00000000\n",
            "00000000\n",
            "00000001\n",
            "0000000f\n",
            "00000000\n",
            "00000000\n",
            "00000000\n",
            "00000000\n",
            "00000000\n",
            "00000000\n",
            "00000000\n",
            "00000000\n",
            "00000000\n",
            "// 0x00000010\n",
            "00000000\n",
            "00000000\n",
            "00000000\n",
            "00000000\n",
            "00000000\n",
            "00000000\n",
            "00000000\n",
            "00000000\n",
            "00000000\n",
            "00000000\n",
            "00000000\n",
            "00000000\n",
            "00000000\n",
            "00000000\n",
            "00000000\n",
            "00000000\n",
            "cycle=  11        Decode         Exec                  Memory           WB\n",
            "\n",
            "        pc |opcode 0110011      |Alusrc 0 op 0 ctl  2|b0 0x00000000   | memtoreg 0\n",
            "        28 | rs  |-R-| value    |A    0 |--\\         |j0 0x00000000   |alu   50\n",
            "inst       | 7   | e |    0     |       ALU |    0   |                |mem    0\n",
            "0x05e00e13 |28   | g |   50     |B    0 |--/         |addr    0       |\n",
            "           |Im     28    f3=000 |                    |r0    0         |w1 rd 28 \n",
            "pcsrc=  0  |rd=  7   f7=0000000 | rd=  0             |w0    0         |       |\n",
            "           |      /\\            |                    |w0 rd  0        |       |\n",
            "                   |----------------------<-------------------<----------------           \n",
            "\n",
            "\n",
            "cycle=  12        Decode         Exec                  Memory           WB\n",
            "\n",
            "        pc |opcode 0010011      |Alusrc 0 op 2 ctl  2|b0 0x00000000   | memtoreg 0\n",
            "        32 | rs  |-R-| value    |A    0 |--\\         |j0 0x00000000   |alu    0\n",
            "inst       | 0   | e |    0     |       ALU |   50   |                |mem    0\n",
            "0x00800413 |30   | g |    0     |B   50 |--/         |addr    0       |\n",
            "           |Im     94    f3=000 |                    |r0    0         |w0 rd  0 \n",
            "pcsrc=  0  |rd= 28   f7=0000010 | rd=  7             |w0    0         |       |\n",
            "           |      /\\            |                    |w0 rd  0        |       |\n",
            "                   |----------------------<-------------------<----------------           \n",
            "\n",
            "\n"
          ]
        }
      ],
      "source": [
        "!cat reg.data\n",
        "# print last two cycles\n",
        "!tail -n 24 out.txt"
      ]
    },
    {
      "cell_type": "code",
      "execution_count": 139,
      "metadata": {
        "cellView": "form",
        "id": "JUddiAZ7ktZz",
        "colab": {
          "base_uri": "https://localhost:8080/",
          "height": 624
        },
        "outputId": "47c8fed5-8652-45a2-9adc-18584b2294ed"
      },
      "outputs": [
        {
          "output_type": "stream",
          "name": "stdout",
          "text": [
            "\n",
            "        pc |opcode xxxxxxx      |Alusrc x op x ctl  x|bx 0xxxxxxxxx   | memtoreg x\n",
            "         0 | rs  |-R-| value    |A    x |--\\         |jx 0xxxxxxxxx   |alu    x\n",
            "inst       | x   | e |    x     |       ALU |    x   |                |mem    x\n",
            "0x00000013 | x   | g |    x     |B    x |--/         |addr    x       |\n",
            "           |Im      x    f3=xxx |                    |rx    x         |wx rd  x \n",
            "pcsrc=  x  |rd=  x   f7=xxxxxxx | rd=  x             |wx    x         |       |\n",
            "           |      /\\            |                    |wx rd  x        |       |\n",
            "                   |----------------------<-------------------<----------------           \n",
            "\n",
            "\n",
            "opcode ALU=011 0011, LW= 000 0011 SW= 010 0011 ALU_I = 001 0011 Branch= 1100011\n",
            "f7_0,f7_5,f3:   0000 + 1000 - 0001 << 0010 slt 0011 sltu 0100 xor 0101 >> 1101 sra 0110 or  0111 and\n",
            "branch 000 beq 001 bne 100 blt 101 bge 110 bltu 111 bgeu\n"
          ]
        },
        {
          "output_type": "error",
          "ename": "KeyboardInterrupt",
          "evalue": "ignored",
          "traceback": [
            "\u001b[0;31m---------------------------------------------------------------------------\u001b[0m",
            "\u001b[0;31mKeyboardInterrupt\u001b[0m                         Traceback (most recent call last)",
            "\u001b[0;32m<ipython-input-139-0fa3cd8062f1>\u001b[0m in \u001b[0;36m<cell line: 9>\u001b[0;34m()\u001b[0m\n\u001b[1;32m     15\u001b[0m     \u001b[0mprint\u001b[0m\u001b[0;34m(\u001b[0m\u001b[0;34m\"f7_0,f7_5,f3:   0000 + 1000 - 0001 << 0010 slt 0011 sltu 0100 xor 0101 >> 1101 sra 0110 or  0111 and\"\u001b[0m\u001b[0;34m)\u001b[0m\u001b[0;34m\u001b[0m\u001b[0;34m\u001b[0m\u001b[0m\n\u001b[1;32m     16\u001b[0m     \u001b[0mprint\u001b[0m\u001b[0;34m(\u001b[0m\u001b[0;34m\"branch 000 beq 001 bne 100 blt 101 bge 110 bltu 111 bgeu\"\u001b[0m\u001b[0;34m)\u001b[0m\u001b[0;34m\u001b[0m\u001b[0;34m\u001b[0m\u001b[0m\n\u001b[0;32m---> 17\u001b[0;31m     \u001b[0mtext\u001b[0m \u001b[0;34m=\u001b[0m \u001b[0minput\u001b[0m\u001b[0;34m(\u001b[0m\u001b[0;34m\"n next, p previous or type cycle number : \"\u001b[0m\u001b[0;34m)\u001b[0m \u001b[0;32mor\u001b[0m \u001b[0;34m\"n\"\u001b[0m\u001b[0;34m\u001b[0m\u001b[0;34m\u001b[0m\u001b[0m\n\u001b[0m\u001b[1;32m     18\u001b[0m     \u001b[0mprint\u001b[0m\u001b[0;34m(\u001b[0m\u001b[0mtext\u001b[0m\u001b[0;34m)\u001b[0m\u001b[0;34m\u001b[0m\u001b[0;34m\u001b[0m\u001b[0m\n\u001b[1;32m     19\u001b[0m     \u001b[0;32mif\u001b[0m \u001b[0;34m(\u001b[0m\u001b[0mtext\u001b[0m \u001b[0;34m==\u001b[0m \u001b[0;34m\"n\"\u001b[0m\u001b[0;34m)\u001b[0m\u001b[0;34m:\u001b[0m\u001b[0;34m\u001b[0m\u001b[0;34m\u001b[0m\u001b[0m\n",
            "\u001b[0;32m/usr/local/lib/python3.10/dist-packages/ipykernel/kernelbase.py\u001b[0m in \u001b[0;36mraw_input\u001b[0;34m(self, prompt)\u001b[0m\n\u001b[1;32m    849\u001b[0m                 \u001b[0;34m\"raw_input was called, but this frontend does not support input requests.\"\u001b[0m\u001b[0;34m\u001b[0m\u001b[0;34m\u001b[0m\u001b[0m\n\u001b[1;32m    850\u001b[0m             )\n\u001b[0;32m--> 851\u001b[0;31m         return self._input_request(str(prompt),\n\u001b[0m\u001b[1;32m    852\u001b[0m             \u001b[0mself\u001b[0m\u001b[0;34m.\u001b[0m\u001b[0m_parent_ident\u001b[0m\u001b[0;34m,\u001b[0m\u001b[0;34m\u001b[0m\u001b[0;34m\u001b[0m\u001b[0m\n\u001b[1;32m    853\u001b[0m             \u001b[0mself\u001b[0m\u001b[0;34m.\u001b[0m\u001b[0m_parent_header\u001b[0m\u001b[0;34m,\u001b[0m\u001b[0;34m\u001b[0m\u001b[0;34m\u001b[0m\u001b[0m\n",
            "\u001b[0;32m/usr/local/lib/python3.10/dist-packages/ipykernel/kernelbase.py\u001b[0m in \u001b[0;36m_input_request\u001b[0;34m(self, prompt, ident, parent, password)\u001b[0m\n\u001b[1;32m    893\u001b[0m             \u001b[0;32mexcept\u001b[0m \u001b[0mKeyboardInterrupt\u001b[0m\u001b[0;34m:\u001b[0m\u001b[0;34m\u001b[0m\u001b[0;34m\u001b[0m\u001b[0m\n\u001b[1;32m    894\u001b[0m                 \u001b[0;31m# re-raise KeyboardInterrupt, to truncate traceback\u001b[0m\u001b[0;34m\u001b[0m\u001b[0;34m\u001b[0m\u001b[0m\n\u001b[0;32m--> 895\u001b[0;31m                 \u001b[0;32mraise\u001b[0m \u001b[0mKeyboardInterrupt\u001b[0m\u001b[0;34m(\u001b[0m\u001b[0;34m\"Interrupted by user\"\u001b[0m\u001b[0;34m)\u001b[0m \u001b[0;32mfrom\u001b[0m \u001b[0;32mNone\u001b[0m\u001b[0;34m\u001b[0m\u001b[0;34m\u001b[0m\u001b[0m\n\u001b[0m\u001b[1;32m    896\u001b[0m             \u001b[0;32mexcept\u001b[0m \u001b[0mException\u001b[0m \u001b[0;32mas\u001b[0m \u001b[0me\u001b[0m\u001b[0;34m:\u001b[0m\u001b[0;34m\u001b[0m\u001b[0;34m\u001b[0m\u001b[0m\n\u001b[1;32m    897\u001b[0m                 \u001b[0mself\u001b[0m\u001b[0;34m.\u001b[0m\u001b[0mlog\u001b[0m\u001b[0;34m.\u001b[0m\u001b[0mwarning\u001b[0m\u001b[0;34m(\u001b[0m\u001b[0;34m\"Invalid Message:\"\u001b[0m\u001b[0;34m,\u001b[0m \u001b[0mexc_info\u001b[0m\u001b[0;34m=\u001b[0m\u001b[0;32mTrue\u001b[0m\u001b[0;34m)\u001b[0m\u001b[0;34m\u001b[0m\u001b[0;34m\u001b[0m\u001b[0m\n",
            "\u001b[0;31mKeyboardInterrupt\u001b[0m: Interrupted by user"
          ]
        }
      ],
      "source": [
        "#@title Pipeline text animation\n",
        "from IPython.display import clear_output\n",
        "\n",
        "with open(\"out.txt\") as f:\n",
        "    Lines = f.read().splitlines() \n",
        "print(\"total Cycles= \"+str(Cycles))\n",
        "\n",
        "j=2\n",
        "for i in range(Cycles):\n",
        "    clear_output(wait=True)\n",
        "    for k in range(11):\n",
        "      print(Lines[j+k])\n",
        "\n",
        "    print(\"opcode ALU=011 0011, LW= 000 0011 SW= 010 0011 ALU_I = 001 0011 Branch= 1100011\")\n",
        "    print(\"f7_0,f7_5,f3:   0000 + 1000 - 0001 << 0010 slt 0011 sltu 0100 xor 0101 >> 1101 sra 0110 or  0111 and\")\n",
        "    print(\"branch 000 beq 001 bne 100 blt 101 bge 110 bltu 111 bgeu\")\n",
        "    text = input(\"n next, p previous or type cycle number : \") or \"n\"\n",
        "    print(text)\n",
        "    if (text == \"n\"):\n",
        "      j += 12\n",
        "    elif (text == \"p\" and j > 12):\n",
        "      j -=12\n",
        "    else:\n",
        "      j = 2+(int(text)-1)*12\n",
        "      print(j)  "
      ]
    },
    {
      "cell_type": "markdown",
      "metadata": {
        "id": "5vjISMlyZWVd"
      },
      "source": [
        "# Teste de Instruções\n",
        "\n",
        "```\n",
        "nop\n",
        "addi  x5,x0,5\n",
        "addi  x6,x0,3\n",
        "addi  x7,x0,4\n",
        "sll  x8,x5,x6\n",
        "srl  x5,x8,x6\n",
        "mul  x7,x7,x7 --> no momento nao ha nem mul e div. Voces devem implementar.\n",
        "div  x8,x8,x5\n",
        "```"
      ]
    },
    {
      "cell_type": "code",
      "execution_count": 140,
      "metadata": {
        "colab": {
          "base_uri": "https://localhost:8080/"
        },
        "id": "uJGyppqCZ24K",
        "outputId": "60cc7e0b-8e30-4047-a538-59ee88eaa4cf"
      },
      "outputs": [
        {
          "output_type": "stream",
          "name": "stdout",
          "text": [
            "Overwriting im_data.txt\n"
          ]
        }
      ],
      "source": [
        "%%writefile im_data.txt\n",
        "00000013\n",
        "00500293\n",
        "00300313\n",
        "00400393\n",
        "00629433\n",
        "006452b3\n",
        "\n"
      ]
    },
    {
      "cell_type": "code",
      "execution_count": 141,
      "metadata": {
        "colab": {
          "base_uri": "https://localhost:8080/"
        },
        "id": "TY6wkj9DaKeU",
        "outputId": "715a0704-97b1-44d2-9648-82839a0bef9a"
      },
      "outputs": [
        {
          "output_type": "stream",
          "name": "stdout",
          "text": [
            "./pipelineDecExec_s2.v:29: warning: Port 4 (in) of regr expects 5 bits, got 4.\n",
            "./pipelineDecExec_s2.v:29:        : Padding 1 high bits of the port.\n",
            "./execution_newcode.v:10: warning: Port 1 (funct) of alu_control expects 4 bits, got 5.\n",
            "./execution_newcode.v:10:        : Pruning 1 high bits of the expression.\n",
            "WARNING: ./im_reg.v:7: $readmemh(im_data.txt): Not enough words in the file for the requested range [0:211].\n",
            "VCD info: dumpfile test.vcd opened for output.\n",
            "cycle=   1        Decode         Exec                  Memory           WB\n",
            "\n",
            "        pc |opcode xxxxxxx      |Alusrc x op x ctl  x|bx 0xxxxxxxxx   | memtoreg x\n",
            "         0 | rs  |-R-| value    |A    x |--\\         |jx 0xxxxxxxxx   |alu    x\n",
            "inst       | x   | e |    x     |       ALU |    x   |                |mem    x\n",
            "0x00000013 | x   | g |    x     |B    x |--/         |addr    x       |\n",
            "           |Im      x    f3=xxx |                    |rx    x         |wx rd  x \n",
            "pcsrc=  x  |rd=  x   f7=xxxxxxx | rd=  x             |wx    x         |       |\n",
            "           |      /\\            |                    |wx rd  x        |       |\n",
            "                   |----------------------<-------------------<----------------           \n",
            "\n",
            "\n",
            "cycle=   2        Decode         Exec                  Memory           WB\n",
            "\n",
            "        pc |opcode 0010011      |Alusrc x op x ctl  x|bx 0xxxxxxxxx   | memtoreg x\n",
            "         4 | rs  |-R-| value    |A    x |--\\         |jx 0xxxxxxxxx   |alu    x\n",
            "inst       | 0   | e |    0     |       ALU |    x   |                |mem    x\n",
            "0x00500293 | 0   | g |    0     |B    x |--/         |addr    x       |\n",
            "           |Im      0    f3=000 |                    |rx    x         |wx rd  x \n",
            "pcsrc=  x  |rd=  0   f7=0000000 | rd=  x             |wx    x         |       |\n",
            "           |      /\\            |                    |wx rd  x        |       |\n",
            "                   |----------------------<-------------------<----------------           \n",
            "\n",
            "\n",
            "cycle=   3        Decode         Exec                  Memory           WB\n",
            "\n",
            "        pc |opcode 0010011      |Alusrc 1 op 3 ctl  2|bx 0xxxxxxxxx   | memtoreg x\n",
            "         8 | rs  |-R-| value    |A    0 |--\\         |jx 0xxxxxxxxx   |alu    x\n",
            "inst       | 0   | e |    0     |       ALU |    0   |                |mem    x\n",
            "0x00300313 | 5   | g |    0     |B    0 |--/         |addr    x       |\n",
            "           |Im      5    f3=000 |                    |rx    x         |wx rd  x \n",
            "pcsrc=  x  |rd=  5   f7=0000000 | rd=  0             |wx    x         |       |\n",
            "           |      /\\            |                    |wx rd  x        |       |\n",
            "                   |----------------------<-------------------<----------------           \n",
            "\n",
            "\n",
            "cycle=   4        Decode         Exec                  Memory           WB\n",
            "\n",
            "        pc |opcode 0010011      |Alusrc 1 op 3 ctl  2|b0 0x00000000   | memtoreg x\n",
            "        12 | rs  |-R-| value    |A    0 |--\\         |j0 0x00000000   |alu    x\n",
            "inst       | 0   | e |    0     |       ALU |    5   |                |mem    x\n",
            "0x00400393 | 3   | g |    0     |B    5 |--/         |addr    0       |\n",
            "           |Im      3    f3=000 |                    |r0    0         |wx rd  x \n",
            "pcsrc=  0  |rd=  6   f7=0000000 | rd=  5             |w0    0         |       |\n",
            "           |      /\\            |                    |w1 rd  0        |       |\n",
            "                   |----------------------<-------------------<----------------           \n",
            "\n",
            "\n",
            "cycle=   5        Decode         Exec                  Memory           WB\n",
            "\n",
            "        pc |opcode 0010011      |Alusrc 1 op 3 ctl  2|b0 0x00000009   | memtoreg 0\n",
            "        16 | rs  |-R-| value    |A    0 |--\\         |j0 0x00000009   |alu    0\n",
            "inst       | 0   | e |    0     |       ALU |    3   |                |mem    0\n",
            "0x00629433 | 4   | g |    0     |B    3 |--/         |addr    5       |\n",
            "           |Im      4    f3=000 |                    |r0    0         |w1 rd  0 \n",
            "pcsrc=  0  |rd=  7   f7=0000000 | rd=  6             |w0    0         |       |\n",
            "           |      /\\            |                    |w1 rd  5        |       |\n",
            "                   |----------------------<-------------------<----------------           \n",
            "\n",
            "\n",
            "cycle=   6        Decode         Exec                  Memory           WB\n",
            "\n",
            "        pc |opcode 0110011      |Alusrc 1 op 3 ctl  2|b0 0x0000000b   | memtoreg 0\n",
            "        20 | rs  |-R-| value    |A    0 |--\\         |j0 0x0000000b   |alu    5\n",
            "inst       | 5   | e |    5     |       ALU |    4   |                |mem    0\n",
            "0x006452b3 | 6   | g |    0     |B    4 |--/         |addr    3       |\n",
            "           |Im      6    f3=001 |                    |r0    0         |w1 rd  5 \n",
            "pcsrc=  0  |rd=  8   f7=0000000 | rd=  7             |w0    0         |       |\n",
            "           |      /\\            |                    |w1 rd  6        |       |\n",
            "                   |----------------------<-------------------<----------------           \n",
            "\n",
            "\n",
            "cycle=   7        Decode         Exec                  Memory           WB\n",
            "\n",
            "        pc |opcode 0110011      |Alusrc 0 op 0 ctl  2|b0 0x00000010   | memtoreg 0\n",
            "        20 | rs  |-R-| value    |A    0 |--\\         |j0 0x00000010   |alu    3\n",
            "inst       | 5   | e |    5     |       ALU |    0   |                |mem    0\n",
            "0x006452b3 | 6   | g |    3     |B    0 |--/         |addr    4       |\n",
            "           |Im      6    f3=001 |                    |r0    0         |w1 rd  6 \n",
            "pcsrc=  0  |rd=  8   f7=0000000 | rd=  0             |w0    0         |       |\n",
            "           |      /\\            |                    |w1 rd  7        |       |\n",
            "                   |----------------------<-------------------<----------------           \n",
            "\n",
            "\n",
            "cycle=   8        Decode         Exec                  Memory           WB\n",
            "\n",
            "        pc |opcode 0110011      |Alusrc 0 op 2 ctl  5|b0 0x00000000   | memtoreg 0\n",
            "        24 | rs  |-R-| value    |A    5 |--\\         |j0 0x00000000   |alu    4\n",
            "inst       | 8   | e |    0     |       ALU |   40   |                |mem    0\n",
            "0xxxxxxxxx | 6   | g |    3     |B    3 |--/         |addr    0       |\n",
            "           |Im      6    f3=101 |                    |r0    0         |w1 rd  7 \n",
            "pcsrc=  0  |rd=  5   f7=0000000 | rd=  8             |w0    0         |       |\n",
            "           |      /\\            |                    |w0 rd  0        |       |\n",
            "                   |----------------------<-------------------<----------------           \n",
            "\n",
            "\n",
            "cycle=   9        Decode         Exec                  Memory           WB\n",
            "\n",
            "        pc |opcode 0110011      |Alusrc 0 op 0 ctl  2|b0 0x00000016   | memtoreg 0\n",
            "        24 | rs  |-R-| value    |A    0 |--\\         |j0 0x00000016   |alu    0\n",
            "inst       | 8   | e |    0     |       ALU |    0   |                |mem    0\n",
            "0xxxxxxxxx | 6   | g |    3     |B    0 |--/         |addr   40       |\n",
            "           |Im      6    f3=101 |                    |r0    0         |w0 rd  0 \n",
            "pcsrc=  0  |rd=  5   f7=0000000 | rd=  0             |w0    3         |       |\n",
            "           |      /\\            |                    |w1 rd  8        |       |\n",
            "                   |----------------------<-------------------<----------------           \n",
            "\n",
            "\n",
            "cycle=  10        Decode         Exec                  Memory           WB\n",
            "\n",
            "        pc |opcode 0110011      |Alusrc 0 op 0 ctl  2|b0 0x00000000   | memtoreg 0\n",
            "        24 | rs  |-R-| value    |A    0 |--\\         |j0 0x00000000   |alu   40\n",
            "inst       | 8   | e |   40     |       ALU |    0   |                |mem    0\n",
            "0xxxxxxxxx | 6   | g |    3     |B    0 |--/         |addr    0       |\n",
            "           |Im      6    f3=101 |                    |r0    0         |w1 rd  8 \n",
            "pcsrc=  0  |rd=  5   f7=0000000 | rd=  0             |w0    0         |       |\n",
            "           |      /\\            |                    |w0 rd  0        |       |\n",
            "                   |----------------------<-------------------<----------------           \n",
            "\n",
            "\n",
            "cycle=  11        Decode         Exec                  Memory           WB\n",
            "\n",
            "        pc |opcode xxxxxxx      |Alusrc 0 op 2 ctl  8|b0 0x00000000   | memtoreg 0\n",
            "        28 | rs  |-R-| value    |A   40 |--\\         |j0 0x00000000   |alu    0\n",
            "inst       | x   | e |    x     |       ALU |    5   |                |mem    0\n",
            "0xxxxxxxxx | x   | g |    x     |B    3 |--/         |addr    0       |\n",
            "           |Im      6    f3=xxx |                    |r0    0         |w0 rd  0 \n",
            "pcsrc=  0  |rd=  x   f7=xxxxxxx | rd=  5             |w0    0         |       |\n",
            "           |      /\\            |                    |w0 rd  0        |       |\n",
            "                   |----------------------<-------------------<----------------           \n",
            "\n",
            "\n",
            "cycle=  12        Decode         Exec                  Memory           WB\n",
            "\n",
            "        pc |opcode xxxxxxx      |Alusrc 0 op 0 ctl  2|b0 0x0000001a   | memtoreg 0\n",
            "        32 | rs  |-R-| value    |A    x |--\\         |j0 0x0000001a   |alu    0\n",
            "inst       | x   | e |    x     |       ALU |    x   |                |mem    0\n",
            "0xxxxxxxxx | x   | g |    x     |B    x |--/         |addr    5       |\n",
            "           |Im      6    f3=xxx |                    |r0    0         |w0 rd  0 \n",
            "pcsrc=  0  |rd=  x   f7=xxxxxxx | rd=  x             |w0    3         |       |\n",
            "           |      /\\            |                    |w1 rd  5        |       |\n",
            "                   |----------------------<-------------------<----------------           \n",
            "\n",
            "\n"
          ]
        }
      ],
      "source": [
        "!iverilog main.v\n",
        "!./a.out"
      ]
    },
    {
      "cell_type": "code",
      "execution_count": 142,
      "metadata": {
        "colab": {
          "base_uri": "https://localhost:8080/"
        },
        "id": "Yvm9DNgRcIG4",
        "outputId": "065afa9c-25ef-469c-c401-f7bf7e0eb2bf"
      },
      "outputs": [
        {
          "output_type": "stream",
          "name": "stdout",
          "text": [
            "// 0x00000000\n",
            "00000000\n",
            "ffffffff\n",
            "00000000\n",
            "00000000\n",
            "00000000\n",
            "00000005\n",
            "00000003\n",
            "00000004\n",
            "00000028\n",
            "00000000\n",
            "00000000\n",
            "00000000\n",
            "00000000\n",
            "00000000\n",
            "00000000\n",
            "00000000\n",
            "// 0x00000010\n",
            "00000000\n",
            "00000000\n",
            "00000000\n",
            "00000000\n",
            "00000000\n",
            "00000000\n",
            "00000000\n",
            "00000000\n",
            "00000000\n",
            "00000000\n",
            "00000000\n",
            "00000000\n",
            "00000000\n",
            "00000000\n",
            "00000000\n",
            "00000000\n"
          ]
        }
      ],
      "source": [
        "!cat reg.data"
      ]
    },
    {
      "cell_type": "code",
      "execution_count": 143,
      "metadata": {
        "id": "vco0u3vEZyUH",
        "colab": {
          "base_uri": "https://localhost:8080/"
        },
        "outputId": "b5d59215-77b7-4067-a561-d2fcb1c5f1da"
      },
      "outputs": [
        {
          "output_type": "stream",
          "name": "stdout",
          "text": [
            "Overwriting clock_div_2.v\n"
          ]
        }
      ],
      "source": [
        "%%writefile clock_div_2.v\n",
        "#40"
      ]
    },
    {
      "cell_type": "markdown",
      "metadata": {
        "id": "Yiw0hlw5uU0s"
      },
      "source": [
        "# Teste Load e Store"
      ]
    },
    {
      "cell_type": "code",
      "execution_count": null,
      "metadata": {
        "id": "qeC7D1VhuTlH"
      },
      "outputs": [],
      "source": [
        "%%writefile im_data.txt\n",
        "00000013\n",
        "00300293\n",
        "0051a423\n",
        "005282b3\n",
        "0081a303\n"
      ]
    },
    {
      "cell_type": "code",
      "execution_count": null,
      "metadata": {
        "id": "oRl4jLWcuhU4"
      },
      "outputs": [],
      "source": [
        "%%writefile clock_div_2.v\n",
        "#30"
      ]
    },
    {
      "cell_type": "code",
      "execution_count": null,
      "metadata": {
        "id": "kBD_pZy3upF2"
      },
      "outputs": [],
      "source": [
        "!iverilog main.v \n",
        "!./a.out"
      ]
    },
    {
      "cell_type": "code",
      "execution_count": null,
      "metadata": {
        "id": "VZ97QYOauggk"
      },
      "outputs": [],
      "source": [
        "!cat reg.data"
      ]
    },
    {
      "cell_type": "markdown",
      "metadata": {
        "id": "j-gkRbHcBko4"
      },
      "source": [
        "# Material sumplementar (DEBUG)"
      ]
    },
    {
      "cell_type": "markdown",
      "metadata": {
        "id": "Ua9lgF0J4YCw"
      },
      "source": [
        "### Debug Fetch\n",
        "\n",
        "* Visualizando o número do ciclo\n",
        "* PC\n",
        "* Código completo da Instrução\n",
        "* o Pipeline dos \"opcode\" ao longo dos estágios"
      ]
    },
    {
      "cell_type": "code",
      "execution_count": 148,
      "metadata": {
        "colab": {
          "base_uri": "https://localhost:8080/",
          "height": 251
        },
        "id": "AJ6wDkKHpi-N",
        "outputId": "3b4f035f-4ac5-4de4-97dc-5f0b58a204fa"
      },
      "outputs": [
        {
          "output_type": "display_data",
          "data": {
            "text/plain": [
              "<Figure size 3300x500 with 1 Axes>"
            ],
            "image/png": "[encoded data removed]"
          },
          "metadata": {}
        }
      ],
      "source": [
        "%%waveform test.vcd\n",
        "\n",
        "op_dict = [{'11':'LW', '1100011':'BEQ','110011':'ALU','100011':'SW','10011':'ADDI'}, {'10':'sp','111':'t2','1001':'s1', '1000':'s0','110':'t1','100':'tp','1':'ra','11':'gp', '101':'t0'} ] \n",
        "sign_list = [ 'main.CPU.clock_counter,dec', 'main.CPU.pc,dec', 'main.CPU.inst', 'main.CPU.opcoderv,r[0]']\n",
        "time_begin = 0\n",
        "time_end =32\n",
        "base = 'hex' # bin, dec, dec2, hex, octal"
      ]
    },
    {
      "cell_type": "markdown",
      "metadata": {
        "id": "bfa4SNJt-ac_"
      },
      "source": [
        "### Final Register Bank"
      ]
    },
    {
      "cell_type": "code",
      "execution_count": null,
      "metadata": {
        "id": "Ha86469k-ePw"
      },
      "outputs": [],
      "source": [
        "!cat reg.data"
      ]
    },
    {
      "cell_type": "code",
      "execution_count": null,
      "metadata": {
        "id": "rxL8ncDhbbL0"
      },
      "outputs": [],
      "source": [
        "!cat mem.data"
      ]
    },
    {
      "cell_type": "markdown",
      "source": [
        "# Testes"
      ],
      "metadata": {
        "id": "bX96eoEAkMG6"
      }
    },
    {
      "cell_type": "markdown",
      "source": [
        "Problema 1: MUL"
      ],
      "metadata": {
        "id": "sD0f3HBTkYtn"
      }
    },
    {
      "cell_type": "markdown",
      "source": [
        "Problema 2: DIV"
      ],
      "metadata": {
        "id": "mYTLnH0QkgmH"
      }
    },
    {
      "cell_type": "markdown",
      "source": [
        "Problema 3: ANDI"
      ],
      "metadata": {
        "id": "IKyPjCMNkl2K"
      }
    },
    {
      "cell_type": "markdown",
      "source": [
        "Problema 4: BEQ"
      ],
      "metadata": {
        "id": "L_OYH34Xkot2"
      }
    }
  ],
  "metadata": {
    "colab": {
      "collapsed_sections": [
        "SrjH4jh6pXPw",
        "ZnhSc7mS92zW",
        "IixGbTr2jC5A",
        "m7prYdSHEIB3",
        "Lqq2rEgO0Nmc",
        "ueHC3K510hWF",
        "4iLL7ELLh93_",
        "IV58BdsjEW4g",
        "soURSlCW4lFD",
        "Zzijkf5J6-vr",
        "qeCLDfHh7eaE",
        "n-kjYcXLE2-X",
        "Q1uiS4-o7jr4",
        "Wob9Hlge7nzr",
        "NxVy3jf-7ws9",
        "L7k18ygazWa7",
        "45qLpIW82QtP",
        "vjqh8Oav2VbR",
        "5vjISMlyZWVd",
        "Yiw0hlw5uU0s",
        "Ua9lgF0J4YCw"
      ],
      "provenance": [],
      "toc_visible": true
    },
    "kernelspec": {
      "display_name": "Python 3",
      "name": "python3"
    },
    "widgets": {
      "application/vnd.jupyter.widget-state+json": {
        "5dc01341348b4a788b34e23d189ce2f9": {
          "model_module": "@jupyter-widgets/controls",
          "model_name": "IntTextModel",
          "model_module_version": "1.5.0",
          "state": {
            "_dom_classes": [],
            "_model_module": "@jupyter-widgets/controls",
            "_model_module_version": "1.5.0",
            "_model_name": "IntTextModel",
            "_view_count": null,
            "_view_module": "@jupyter-widgets/controls",
            "_view_module_version": "1.5.0",
            "_view_name": "IntTextView",
            "continuous_update": false,
            "description": "Cycles",
            "description_tooltip": null,
            "disabled": false,
            "layout": "IPY_MODEL_0ce9802094814016832efd85159d6117",
            "step": 1,
            "style": "IPY_MODEL_95f37ef19faa46a286b14d8ae0d9d3b1",
            "value": 12
          }
        },
        "0ce9802094814016832efd85159d6117": {
          "model_module": "@jupyter-widgets/base",
          "model_name": "LayoutModel",
          "model_module_version": "1.2.0",
          "state": {
            "_model_module": "@jupyter-widgets/base",
            "_model_module_version": "1.2.0",
            "_model_name": "LayoutModel",
            "_view_count": null,
            "_view_module": "@jupyter-widgets/base",
            "_view_module_version": "1.2.0",
            "_view_name": "LayoutView",
            "align_content": null,
            "align_items": null,
            "align_self": null,
            "border": null,
            "bottom": null,
            "display": null,
            "flex": null,
            "flex_flow": null,
            "grid_area": null,
            "grid_auto_columns": null,
            "grid_auto_flow": null,
            "grid_auto_rows": null,
            "grid_column": null,
            "grid_gap": null,
            "grid_row": null,
            "grid_template_areas": null,
            "grid_template_columns": null,
            "grid_template_rows": null,
            "height": null,
            "justify_content": null,
            "justify_items": null,
            "left": null,
            "margin": null,
            "max_height": null,
            "max_width": null,
            "min_height": null,
            "min_width": null,
            "object_fit": null,
            "object_position": null,
            "order": null,
            "overflow": null,
            "overflow_x": null,
            "overflow_y": null,
            "padding": null,
            "right": null,
            "top": null,
            "visibility": null,
            "width": null
          }
        },
        "95f37ef19faa46a286b14d8ae0d9d3b1": {
          "model_module": "@jupyter-widgets/controls",
          "model_name": "DescriptionStyleModel",
          "model_module_version": "1.5.0",
          "state": {
            "_model_module": "@jupyter-widgets/controls",
            "_model_module_version": "1.5.0",
            "_model_name": "DescriptionStyleModel",
            "_view_count": null,
            "_view_module": "@jupyter-widgets/base",
            "_view_module_version": "1.2.0",
            "_view_name": "StyleView",
            "description_width": ""
          }
        },
        "f603842c0a824a91ae94a234b0838613": {
          "model_module": "@jupyter-widgets/controls",
          "model_name": "IntSliderModel",
          "model_module_version": "1.5.0",
          "state": {
            "_dom_classes": [],
            "_model_module": "@jupyter-widgets/controls",
            "_model_module_version": "1.5.0",
            "_model_name": "IntSliderModel",
            "_view_count": null,
            "_view_module": "@jupyter-widgets/controls",
            "_view_module_version": "1.5.0",
            "_view_name": "IntSliderView",
            "continuous_update": true,
            "description": "Animation time",
            "description_tooltip": null,
            "disabled": false,
            "layout": "IPY_MODEL_d6838e37f9da43ba9e5ffc8cb524c61b",
            "max": 4,
            "min": 0,
            "orientation": "horizontal",
            "readout": true,
            "readout_format": "d",
            "step": 1,
            "style": "IPY_MODEL_3d30cb5b41e64bb094d01fc1b3d2aaa1",
            "value": 2
          }
        },
        "d6838e37f9da43ba9e5ffc8cb524c61b": {
          "model_module": "@jupyter-widgets/base",
          "model_name": "LayoutModel",
          "model_module_version": "1.2.0",
          "state": {
            "_model_module": "@jupyter-widgets/base",
            "_model_module_version": "1.2.0",
            "_model_name": "LayoutModel",
            "_view_count": null,
            "_view_module": "@jupyter-widgets/base",
            "_view_module_version": "1.2.0",
            "_view_name": "LayoutView",
            "align_content": null,
            "align_items": null,
            "align_self": null,
            "border": null,
            "bottom": null,
            "display": null,
            "flex": null,
            "flex_flow": null,
            "grid_area": null,
            "grid_auto_columns": null,
            "grid_auto_flow": null,
            "grid_auto_rows": null,
            "grid_column": null,
            "grid_gap": null,
            "grid_row": null,
            "grid_template_areas": null,
            "grid_template_columns": null,
            "grid_template_rows": null,
            "height": null,
            "justify_content": null,
            "justify_items": null,
            "left": null,
            "margin": null,
            "max_height": null,
            "max_width": null,
            "min_height": null,
            "min_width": null,
            "object_fit": null,
            "object_position": null,
            "order": null,
            "overflow": null,
            "overflow_x": null,
            "overflow_y": null,
            "padding": null,
            "right": null,
            "top": null,
            "visibility": null,
            "width": null
          }
        },
        "3d30cb5b41e64bb094d01fc1b3d2aaa1": {
          "model_module": "@jupyter-widgets/controls",
          "model_name": "SliderStyleModel",
          "model_module_version": "1.5.0",
          "state": {
            "_model_module": "@jupyter-widgets/controls",
            "_model_module_version": "1.5.0",
            "_model_name": "SliderStyleModel",
            "_view_count": null,
            "_view_module": "@jupyter-widgets/base",
            "_view_module_version": "1.2.0",
            "_view_name": "StyleView",
            "description_width": "initial",
            "handle_color": null
          }
        }
      }
    }
  },
  "nbformat": 4,
  "nbformat_minor": 0
}